{
 "cells": [
  {
   "cell_type": "code",
   "execution_count": 7,
   "metadata": {},
   "outputs": [],
   "source": [
    "import jax\n",
    "import jax.numpy as jnp\n",
    "import optax\n",
    "import pandas as pd\n",
    "\n",
    "from model import u,m,policy,F,T\n",
    "\n",
    "import nndp"
   ]
  },
  {
   "cell_type": "markdown",
   "metadata": {},
   "source": [
    "Solves a cake eating problem by choosing how much cake to consume. $c_t$ is the share of cake consumed at time $t$.\n",
    "\n",
    "$$V(s_0)=\\sum_{t=0}^T u(c_ts_t)$$\n",
    "\n",
    "$$s_{t+1}=(1-c_t)s_t$$"
   ]
  },
  {
   "cell_type": "code",
   "execution_count": 5,
   "metadata": {},
   "outputs": [
    {
     "name": "stdout",
     "output_type": "stream",
     "text": [
      "Objective value on training iteration 99 out of 100: -13.265680313110352"
     ]
    }
   ],
   "source": [
    "\n",
    "key = jax.random.PRNGKey(1)\n",
    "key, subkey = jax.random.split(key)\n",
    "\n",
    "\n",
    "params, nn = nndp.initialize_deep_nn(subkey,\n",
    "                                n_states = 2,\n",
    "                                n_actions = 1,\n",
    "                                nodes_per_layer=100,\n",
    "                                hidden_layers=4,\n",
    "                                hidden_activation=jax.nn.tanh,\n",
    "                                output_activation=[jax.nn.sigmoid])\n",
    "\n",
    "key, subkey = jax.random.split(key)\n",
    "\n",
    "params = nndp.core.train(key = subkey,\n",
    "               params = params,\n",
    "               nn = nn,\n",
    "               policy = policy,\n",
    "               u = u,\n",
    "               m = m,\n",
    "               F = F,\n",
    "               T = T,\n",
    "               N_simul = 1,\n",
    "               batch_size = 250,\n",
    "               N_iter = 100,\n",
    "               optimizer = optax.adam(1e-3)\n",
    "               )"
   ]
  },
  {
   "cell_type": "code",
   "execution_count": null,
   "metadata": {},
   "outputs": [],
   "source": [
    "data = pd.DataFrame({'t':range(0,T+1), 's':0, 'policy':0})\n",
    "\n",
    "data.loc[0,'s'] = 1\n",
    "for t in range(T+1):\n",
    "  s = jnp.array(data.loc[t,['t','s']].to_numpy().astype('float32')).reshape(-1,2)\n",
    "  data.loc[t,'policy'] = policy(s,params, nn)[0][0]\n",
    "  s_next = m(1,s,policy(s,params,nn)).squeeze()\n",
    "  if t<T:\n",
    "    data.loc[t+1,['t','s']] = s_next\n",
    "data"
   ]
  }
 ],
 "metadata": {
  "kernelspec": {
   "display_name": "env",
   "language": "python",
   "name": "python3"
  },
  "language_info": {
   "codemirror_mode": {
    "name": "ipython",
    "version": 3
   },
   "file_extension": ".py",
   "mimetype": "text/x-python",
   "name": "python",
   "nbconvert_exporter": "python",
   "pygments_lexer": "ipython3",
   "version": "3.11.4"
  }
 },
 "nbformat": 4,
 "nbformat_minor": 2
}
