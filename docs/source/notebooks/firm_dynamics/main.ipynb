{
 "cells": [
  {
   "cell_type": "code",
   "execution_count": 1,
   "metadata": {},
   "outputs": [],
   "source": [
    "import sys\n",
    "\n",
    "sys.path[0] = '/bbkinghome/mbarrera/git_supply/nndp/src'\n",
    "\n",
    "import sys\n",
    "import pandas as pd\n",
    "import jax\n",
    "import jax.numpy as jnp\n",
    "import matplotlib.pyplot as plt\n",
    "import optax\n",
    "import nndp"
   ]
  },
  {
   "cell_type": "code",
   "execution_count": 2,
   "metadata": {},
   "outputs": [],
   "source": [
    "from model import u, m, F, policy, T, k_star"
   ]
  },
  {
   "cell_type": "code",
   "execution_count": 3,
   "metadata": {},
   "outputs": [],
   "source": [
    "key = jax.random.PRNGKey(0)\n",
    "key, subkey = jax.random.split(key)\n",
    "params, nn = nndp.initialize_deep_nn(subkey,\n",
    "                                n_states = 3,\n",
    "                                n_actions = 1,\n",
    "                                nodes_per_layer = 256,\n",
    "                                hidden_layers = 3,\n",
    "                                hidden_activation = jax.nn.tanh,\n",
    "                                output_activation = [jax.nn.relu])\n",
    "\n",
    "\n",
    "def normalize_params(params:dict)->dict:\n",
    "    for layer in params.keys():\n",
    "        params[layer]['w'] = params[layer]['w'] / jnp.sqrt(params[layer]['w'].shape[0])\n",
    "    return params\n",
    "\n",
    "params = normalize_params(params)"
   ]
  },
  {
   "cell_type": "code",
   "execution_count": 4,
   "metadata": {},
   "outputs": [
    {
     "name": "stdout",
     "output_type": "stream",
     "text": [
      "[3718345666 3241832197]\n",
      "[Array([2970213338, 3257369050], dtype=uint32), Array([1331828954,  483151612], dtype=uint32), Array([3692202802, 2993078326], dtype=uint32), Array([2279577222, 1938903633], dtype=uint32), Array([3224447805, 2479487731], dtype=uint32), Array([3324871365, 2779634984], dtype=uint32), Array([3017302986, 2280264390], dtype=uint32), Array([ 714287612, 2361200358], dtype=uint32), Array([3292927106, 3783105617], dtype=uint32), Array([3881717003, 3226736655], dtype=uint32)]\n",
      "Objective value on training iteration 0 out of 200: 7.88939905166626[1336519323 1294621772]\n",
      "[Array([1916844648,  443612905], dtype=uint32), Array([1741687697, 2831090157], dtype=uint32), Array([2350119090, 1836977502], dtype=uint32), Array([2318005493,   45016043], dtype=uint32), Array([387583749, 690402828], dtype=uint32), Array([480693563, 350953831], dtype=uint32), Array([ 434086591, 1343143812], dtype=uint32), Array([1531285076, 2284380722], dtype=uint32), Array([2233803969, 3120488731], dtype=uint32), Array([2152424895, 2888329833], dtype=uint32)]\n",
      "Objective value on training iteration 1 out of 200: 12.81214427947998[  41915916 1160466326]\n",
      "[Array([2988455513, 3302148300], dtype=uint32), Array([1581187736, 2226109215], dtype=uint32), Array([1029179400, 4239065655], dtype=uint32), Array([2938522685, 1386364325], dtype=uint32), Array([2762248142, 3450665429], dtype=uint32), Array([2366100863, 1506382968], dtype=uint32), Array([4238072315, 1592099482], dtype=uint32), Array([1322833057,  568334066], dtype=uint32), Array([ 974258575, 1935094672], dtype=uint32), Array([2591676479, 3228868389], dtype=uint32)]\n",
      "Objective value on training iteration 2 out of 200: 8.881551742553711[3589252785 1125330829]\n",
      "[Array([2547782517, 2314109489], dtype=uint32), Array([3700512855, 4031031915], dtype=uint32), Array([1916158048, 3793623658], dtype=uint32), Array([2875029014, 4202443279], dtype=uint32), Array([3171795066,  113569581], dtype=uint32), Array([3981851145, 3290988243], dtype=uint32), Array([4084587669, 2671581821], dtype=uint32), Array([1147852562, 2188435182], dtype=uint32), Array([3295254979, 3828576011], dtype=uint32), Array([1618353648,  950794056], dtype=uint32)]\n",
      "Objective value on training iteration 3 out of 200: 9.954798698425293[3766211215 3620469206]\n",
      "[Array([ 919891419, 1004510482], dtype=uint32), Array([2749993052, 4166985680], dtype=uint32), Array([4181350803, 3239985964], dtype=uint32), Array([1606112205, 1369000230], dtype=uint32), Array([3070087329, 2649634613], dtype=uint32), Array([3004409926, 3318508236], dtype=uint32), Array([4010032390, 1323977581], dtype=uint32), Array([2857206798, 3275813016], dtype=uint32), Array([2012366164,  694192921], dtype=uint32), Array([1357386257, 1667663939], dtype=uint32)]\n",
      "Objective value on training iteration 4 out of 200: 13.126724243164062[3315949925 3693603126]\n",
      "[Array([3788361900, 3403713265], dtype=uint32), Array([2093984298, 3291421220], dtype=uint32), Array([2963935693,  706060603], dtype=uint32), Array([2167935257, 1794488603], dtype=uint32), Array([2766261375, 3095962714], dtype=uint32), Array([4221512516, 2537229554], dtype=uint32), Array([3073566728, 2713707036], dtype=uint32), Array([ 589367223, 2064830624], dtype=uint32), Array([1337653260, 1875914507], dtype=uint32), Array([2089282468, 1779611913], dtype=uint32)]\n",
      "Objective value on training iteration 5 out of 200: 9.68983268737793[ 397901733 1979361961]\n",
      "[Array([ 554547614, 2434392232], dtype=uint32), Array([4070928148, 1036535035], dtype=uint32), Array([3520585725, 3542947872], dtype=uint32), Array([4012746268, 3047646204], dtype=uint32), Array([ 759510266, 1914501942], dtype=uint32), Array([2277271367, 2705016796], dtype=uint32), Array([1917543671,  975995567], dtype=uint32), Array([1879973286,  331050488], dtype=uint32), Array([ 259762623, 1495472640], dtype=uint32), Array([3438520558,  908656289], dtype=uint32)]\n",
      "Objective value on training iteration 6 out of 200: 9.964922904968262[ 792737703 3718207112]\n",
      "[Array([3394259962, 2183489123], dtype=uint32), Array([1327458247,  751398391], dtype=uint32), Array([3088464268,  592193458], dtype=uint32), Array([1225915681, 2484735852], dtype=uint32), Array([3759657990,  621404926], dtype=uint32), Array([ 686418972, 2280577345], dtype=uint32), Array([ 897095450, 1176522936], dtype=uint32), Array([ 701439049, 2256133603], dtype=uint32), Array([1410578878, 1904981477], dtype=uint32), Array([3939569955,  156297341], dtype=uint32)]\n"
     ]
    },
    {
     "ename": "KeyboardInterrupt",
     "evalue": "",
     "output_type": "error",
     "traceback": [
      "\u001b[0;31m---------------------------------------------------------------------------\u001b[0m",
      "\u001b[0;31mKeyboardInterrupt\u001b[0m                         Traceback (most recent call last)",
      "Cell \u001b[0;32mIn[4], line 3\u001b[0m\n\u001b[1;32m      1\u001b[0m key, subkey \u001b[38;5;241m=\u001b[39m jax\u001b[38;5;241m.\u001b[39mrandom\u001b[38;5;241m.\u001b[39msplit(key)\n\u001b[0;32m----> 3\u001b[0m params,result \u001b[38;5;241m=\u001b[39m \u001b[43mnndp\u001b[49m\u001b[38;5;241;43m.\u001b[39;49m\u001b[43mcore\u001b[49m\u001b[38;5;241;43m.\u001b[39;49m\u001b[43mtrain\u001b[49m\u001b[43m(\u001b[49m\u001b[43mkey\u001b[49m\u001b[43m \u001b[49m\u001b[38;5;241;43m=\u001b[39;49m\u001b[43m \u001b[49m\u001b[43msubkey\u001b[49m\u001b[43m,\u001b[49m\n\u001b[1;32m      4\u001b[0m \u001b[43m               \u001b[49m\u001b[43mparams\u001b[49m\u001b[43m \u001b[49m\u001b[38;5;241;43m=\u001b[39;49m\u001b[43m \u001b[49m\u001b[43mparams\u001b[49m\u001b[43m,\u001b[49m\n\u001b[1;32m      5\u001b[0m \u001b[43m               \u001b[49m\u001b[43mnn\u001b[49m\u001b[43m \u001b[49m\u001b[38;5;241;43m=\u001b[39;49m\u001b[43m \u001b[49m\u001b[43mnn\u001b[49m\u001b[43m,\u001b[49m\n\u001b[1;32m      6\u001b[0m \u001b[43m               \u001b[49m\u001b[43mpolicy\u001b[49m\u001b[43m \u001b[49m\u001b[38;5;241;43m=\u001b[39;49m\u001b[43m \u001b[49m\u001b[43mpolicy\u001b[49m\u001b[43m,\u001b[49m\n\u001b[1;32m      7\u001b[0m \u001b[43m               \u001b[49m\u001b[43mu\u001b[49m\u001b[43m \u001b[49m\u001b[38;5;241;43m=\u001b[39;49m\u001b[43m \u001b[49m\u001b[43mu\u001b[49m\u001b[43m,\u001b[49m\n\u001b[1;32m      8\u001b[0m \u001b[43m               \u001b[49m\u001b[43mm\u001b[49m\u001b[43m \u001b[49m\u001b[38;5;241;43m=\u001b[39;49m\u001b[43m \u001b[49m\u001b[43mm\u001b[49m\u001b[43m,\u001b[49m\n\u001b[1;32m      9\u001b[0m \u001b[43m               \u001b[49m\u001b[43mF\u001b[49m\u001b[43m \u001b[49m\u001b[38;5;241;43m=\u001b[39;49m\u001b[43m \u001b[49m\u001b[43mF\u001b[49m\u001b[43m,\u001b[49m\n\u001b[1;32m     10\u001b[0m \u001b[43m               \u001b[49m\u001b[43mT\u001b[49m\u001b[43m \u001b[49m\u001b[38;5;241;43m=\u001b[39;49m\u001b[43m \u001b[49m\u001b[43mT\u001b[49m\u001b[43m,\u001b[49m\n\u001b[1;32m     11\u001b[0m \u001b[43m               \u001b[49m\u001b[43mN_simul\u001b[49m\u001b[43m \u001b[49m\u001b[38;5;241;43m=\u001b[39;49m\u001b[43m \u001b[49m\u001b[38;5;241;43m100\u001b[39;49m\u001b[43m,\u001b[49m\n\u001b[1;32m     12\u001b[0m \u001b[43m               \u001b[49m\u001b[43mbatch_size\u001b[49m\u001b[43m \u001b[49m\u001b[38;5;241;43m=\u001b[39;49m\u001b[43m \u001b[49m\u001b[38;5;241;43m10\u001b[39;49m\u001b[43m,\u001b[49m\n\u001b[1;32m     13\u001b[0m \u001b[43m               \u001b[49m\u001b[43mepochs\u001b[49m\u001b[43m \u001b[49m\u001b[38;5;241;43m=\u001b[39;49m\u001b[43m \u001b[49m\u001b[38;5;241;43m200\u001b[39;49m\u001b[43m,\u001b[49m\n\u001b[1;32m     14\u001b[0m \u001b[43m               \u001b[49m\u001b[43moptimizer\u001b[49m\u001b[43m \u001b[49m\u001b[38;5;241;43m=\u001b[39;49m\u001b[43m \u001b[49m\u001b[43moptax\u001b[49m\u001b[38;5;241;43m.\u001b[39;49m\u001b[43madam\u001b[49m\u001b[43m(\u001b[49m\u001b[38;5;241;43m1e-4\u001b[39;49m\u001b[43m)\u001b[49m\n\u001b[1;32m     15\u001b[0m \u001b[43m               \u001b[49m\u001b[43m)\u001b[49m\n",
      "File \u001b[0;32m~/git_supply/nndp/src/nndp/core/train.py:180\u001b[0m, in \u001b[0;36mtrain\u001b[0;34m(key, params, policy, nn, u, m, F, T, N_simul, batch_size, epochs, optimizer)\u001b[0m\n\u001b[1;32m    178\u001b[0m key, \u001b[38;5;241m*\u001b[39msubkey \u001b[38;5;241m=\u001b[39m jax\u001b[38;5;241m.\u001b[39mrandom\u001b[38;5;241m.\u001b[39msplit(key,\u001b[38;5;241m3\u001b[39m)\n\u001b[1;32m    179\u001b[0m s0 \u001b[38;5;241m=\u001b[39m F(key \u001b[38;5;241m=\u001b[39m subkey[\u001b[38;5;241m0\u001b[39m], N \u001b[38;5;241m=\u001b[39m batch_size)\n\u001b[0;32m--> 180\u001b[0m params, opt_state, value \u001b[38;5;241m=\u001b[39m \u001b[43mtrain_step\u001b[49m\u001b[43m(\u001b[49m\u001b[43mkey\u001b[49m\u001b[43m \u001b[49m\u001b[38;5;241;43m=\u001b[39;49m\u001b[43m \u001b[49m\u001b[43msubkey\u001b[49m\u001b[43m[\u001b[49m\u001b[38;5;241;43m1\u001b[39;49m\u001b[43m]\u001b[49m\u001b[43m,\u001b[49m\u001b[43m \u001b[49m\n\u001b[1;32m    181\u001b[0m \u001b[43m                                      \u001b[49m\u001b[43mparams\u001b[49m\u001b[43m \u001b[49m\u001b[38;5;241;43m=\u001b[39;49m\u001b[43m \u001b[49m\u001b[43mparams\u001b[49m\u001b[43m,\u001b[49m\u001b[43m \u001b[49m\n\u001b[1;32m    182\u001b[0m \u001b[43m                                      \u001b[49m\u001b[43mpolicy\u001b[49m\u001b[43m \u001b[49m\u001b[38;5;241;43m=\u001b[39;49m\u001b[43m \u001b[49m\u001b[43mpolicy\u001b[49m\u001b[43m,\u001b[49m\u001b[43m \u001b[49m\n\u001b[1;32m    183\u001b[0m \u001b[43m                                      \u001b[49m\u001b[43mnn\u001b[49m\u001b[43m \u001b[49m\u001b[38;5;241;43m=\u001b[39;49m\u001b[43m \u001b[49m\u001b[43mnn\u001b[49m\u001b[43m,\u001b[49m\n\u001b[1;32m    184\u001b[0m \u001b[43m                                      \u001b[49m\u001b[43mu\u001b[49m\u001b[43m \u001b[49m\u001b[38;5;241;43m=\u001b[39;49m\u001b[43m \u001b[49m\u001b[43mu\u001b[49m\u001b[43m,\u001b[49m\u001b[43m \u001b[49m\n\u001b[1;32m    185\u001b[0m \u001b[43m                                      \u001b[49m\u001b[43mm\u001b[49m\u001b[43m \u001b[49m\u001b[38;5;241;43m=\u001b[39;49m\u001b[43m \u001b[49m\u001b[43mm\u001b[49m\u001b[43m,\u001b[49m\u001b[43m \u001b[49m\n\u001b[1;32m    186\u001b[0m \u001b[43m                                      \u001b[49m\u001b[43ms0\u001b[49m\u001b[43m \u001b[49m\u001b[38;5;241;43m=\u001b[39;49m\u001b[43m \u001b[49m\u001b[43ms0\u001b[49m\u001b[43m,\u001b[49m\u001b[43m \u001b[49m\n\u001b[1;32m    187\u001b[0m \u001b[43m                                      \u001b[49m\u001b[43mT\u001b[49m\u001b[43m \u001b[49m\u001b[38;5;241;43m=\u001b[39;49m\u001b[43m \u001b[49m\u001b[43mT\u001b[49m\u001b[43m,\u001b[49m\u001b[43m \u001b[49m\n\u001b[1;32m    188\u001b[0m \u001b[43m                                      \u001b[49m\u001b[43mN_simul\u001b[49m\u001b[43m \u001b[49m\u001b[38;5;241;43m=\u001b[39;49m\u001b[43m \u001b[49m\u001b[43mN_simul\u001b[49m\u001b[43m,\u001b[49m\u001b[43m \u001b[49m\n\u001b[1;32m    189\u001b[0m \u001b[43m                                      \u001b[49m\u001b[43moptimizer\u001b[49m\u001b[43m \u001b[49m\u001b[38;5;241;43m=\u001b[39;49m\u001b[43m \u001b[49m\u001b[43moptimizer\u001b[49m\u001b[43m,\u001b[49m\u001b[43m \u001b[49m\n\u001b[1;32m    190\u001b[0m \u001b[43m                                      \u001b[49m\u001b[43mopt_state\u001b[49m\u001b[43m \u001b[49m\u001b[38;5;241;43m=\u001b[39;49m\u001b[43m \u001b[49m\u001b[43mopt_state\u001b[49m\u001b[43m)\u001b[49m\n\u001b[1;32m    192\u001b[0m values \u001b[38;5;241m=\u001b[39m values\u001b[38;5;241m.\u001b[39mat[i]\u001b[38;5;241m.\u001b[39mset(value)\n\u001b[1;32m    194\u001b[0m \u001b[38;5;28mprint\u001b[39m(\u001b[38;5;124mf\u001b[39m\u001b[38;5;124m'\u001b[39m\u001b[38;5;130;01m\\r\u001b[39;00m\u001b[38;5;124mObjective value on training iteration \u001b[39m\u001b[38;5;132;01m{\u001b[39;00mi\u001b[38;5;132;01m}\u001b[39;00m\u001b[38;5;124m out of \u001b[39m\u001b[38;5;132;01m{\u001b[39;00mepochs\u001b[38;5;132;01m}\u001b[39;00m\u001b[38;5;124m: \u001b[39m\u001b[38;5;132;01m{\u001b[39;00m\u001b[38;5;241m-\u001b[39mvalue\u001b[38;5;132;01m}\u001b[39;00m\u001b[38;5;124m'\u001b[39m, end\u001b[38;5;241m=\u001b[39m\u001b[38;5;124m'\u001b[39m\u001b[38;5;124m'\u001b[39m)\n",
      "File \u001b[0;32m~/git_supply/nndp/src/nndp/core/train.py:107\u001b[0m, in \u001b[0;36mtrain_step\u001b[0;34m(key, params, policy, nn, u, m, s0, T, N_simul, optimizer, opt_state)\u001b[0m\n\u001b[1;32m     71\u001b[0m \u001b[38;5;28;01mdef\u001b[39;00m \u001b[38;5;21mtrain_step\u001b[39m(key:PRNGKeyArray,\n\u001b[1;32m     72\u001b[0m                params:\u001b[38;5;28mdict\u001b[39m,\n\u001b[1;32m     73\u001b[0m                policy:Callable[[Array, \u001b[38;5;28mdict\u001b[39m, Callable], Array],\n\u001b[0;32m   (...)\u001b[0m\n\u001b[1;32m     81\u001b[0m                opt_state\n\u001b[1;32m     82\u001b[0m                ):\n\u001b[1;32m     83\u001b[0m \u001b[38;5;250m    \u001b[39m\u001b[38;5;124;03m'''\u001b[39;00m\n\u001b[1;32m     84\u001b[0m \u001b[38;5;124;03m    Performs one optimization step to update neural network parameters, params,\u001b[39;00m\n\u001b[1;32m     85\u001b[0m \u001b[38;5;124;03m    where objective function is -1 times the equal-weighted mean of value\u001b[39;00m\n\u001b[0;32m   (...)\u001b[0m\n\u001b[1;32m    105\u001b[0m \u001b[38;5;124;03m    value: objective function value at previous step\u001b[39;00m\n\u001b[1;32m    106\u001b[0m \u001b[38;5;124;03m    '''\u001b[39;00m\n\u001b[0;32m--> 107\u001b[0m     value, grads \u001b[38;5;241m=\u001b[39m \u001b[43mjax\u001b[49m\u001b[38;5;241;43m.\u001b[39;49m\u001b[43mvalue_and_grad\u001b[49m\u001b[43m(\u001b[49m\u001b[38;5;28;43;01mlambda\u001b[39;49;00m\u001b[43m \u001b[49m\u001b[43mparams\u001b[49m\u001b[43m:\u001b[49m\u001b[43m \u001b[49m\u001b[38;5;241;43m-\u001b[39;49m\u001b[43mjnp\u001b[49m\u001b[38;5;241;43m.\u001b[39;49m\u001b[43mmean\u001b[49m\u001b[43m(\u001b[49m\n\u001b[1;32m    108\u001b[0m \u001b[43m        \u001b[49m\u001b[43mevaluate_policy\u001b[49m\u001b[43m(\u001b[49m\u001b[43mkey\u001b[49m\u001b[43m \u001b[49m\u001b[38;5;241;43m=\u001b[39;49m\u001b[43m \u001b[49m\u001b[43mkey\u001b[49m\u001b[43m,\u001b[49m\u001b[43m \u001b[49m\n\u001b[1;32m    109\u001b[0m \u001b[43m                       \u001b[49m\u001b[43mpolicy\u001b[49m\u001b[43m \u001b[49m\u001b[38;5;241;43m=\u001b[39;49m\u001b[43m \u001b[49m\u001b[43mpolicy\u001b[49m\u001b[43m,\u001b[49m\n\u001b[1;32m    110\u001b[0m \u001b[43m                       \u001b[49m\u001b[43mparams\u001b[49m\u001b[43m \u001b[49m\u001b[38;5;241;43m=\u001b[39;49m\u001b[43m \u001b[49m\u001b[43mparams\u001b[49m\u001b[43m,\u001b[49m\u001b[43m \u001b[49m\n\u001b[1;32m    111\u001b[0m \u001b[43m                        \u001b[49m\u001b[43mnn\u001b[49m\u001b[38;5;241;43m=\u001b[39;49m\u001b[43m \u001b[49m\u001b[43mnn\u001b[49m\u001b[43m,\u001b[49m\n\u001b[1;32m    112\u001b[0m \u001b[43m                       \u001b[49m\u001b[43mu\u001b[49m\u001b[43m \u001b[49m\u001b[38;5;241;43m=\u001b[39;49m\u001b[43m \u001b[49m\u001b[43mu\u001b[49m\u001b[43m,\u001b[49m\n\u001b[1;32m    113\u001b[0m \u001b[43m                       \u001b[49m\u001b[43mm\u001b[49m\u001b[43m \u001b[49m\u001b[38;5;241;43m=\u001b[39;49m\u001b[43m \u001b[49m\u001b[43mm\u001b[49m\u001b[43m,\u001b[49m\n\u001b[1;32m    114\u001b[0m \u001b[43m                       \u001b[49m\u001b[43ms0\u001b[49m\u001b[43m \u001b[49m\u001b[38;5;241;43m=\u001b[39;49m\u001b[43m \u001b[49m\u001b[43ms0\u001b[49m\u001b[43m,\u001b[49m\n\u001b[1;32m    115\u001b[0m \u001b[43m                       \u001b[49m\u001b[43mT\u001b[49m\u001b[43m \u001b[49m\u001b[38;5;241;43m=\u001b[39;49m\u001b[43m \u001b[49m\u001b[43mT\u001b[49m\u001b[43m,\u001b[49m\n\u001b[1;32m    116\u001b[0m \u001b[43m                       \u001b[49m\u001b[43mN_simul\u001b[49m\u001b[43m \u001b[49m\u001b[38;5;241;43m=\u001b[39;49m\u001b[43m \u001b[49m\u001b[43mN_simul\u001b[49m\u001b[43m)\u001b[49m\n\u001b[1;32m    117\u001b[0m \u001b[43m        \u001b[49m\u001b[43m)\u001b[49m\n\u001b[1;32m    118\u001b[0m \u001b[43m    \u001b[49m\u001b[43m)\u001b[49m\u001b[43m(\u001b[49m\u001b[43mparams\u001b[49m\u001b[43m)\u001b[49m\n\u001b[1;32m    119\u001b[0m     updates, opt_state \u001b[38;5;241m=\u001b[39m optimizer\u001b[38;5;241m.\u001b[39mupdate(grads, opt_state)\n\u001b[1;32m    120\u001b[0m     params \u001b[38;5;241m=\u001b[39m optax\u001b[38;5;241m.\u001b[39mapply_updates(params, updates)\n",
      "    \u001b[0;31m[... skipping hidden 1 frame]\u001b[0m\n",
      "File \u001b[0;32m~/git_supply/nndp/env/lib/python3.11/site-packages/jax/_src/api.py:723\u001b[0m, in \u001b[0;36mvalue_and_grad.<locals>.value_and_grad_f\u001b[0;34m(*args, **kwargs)\u001b[0m\n\u001b[1;32m    721\u001b[0m _check_scalar(ans)\n\u001b[1;32m    722\u001b[0m tree_map(partial(_check_output_dtype_grad, holomorphic), ans)\n\u001b[0;32m--> 723\u001b[0m g \u001b[38;5;241m=\u001b[39m \u001b[43mvjp_py\u001b[49m\u001b[43m(\u001b[49m\u001b[43mlax_internal\u001b[49m\u001b[38;5;241;43m.\u001b[39;49m\u001b[43m_one\u001b[49m\u001b[43m(\u001b[49m\u001b[43mans\u001b[49m\u001b[43m)\u001b[49m\u001b[43m)\u001b[49m\n\u001b[1;32m    724\u001b[0m g \u001b[38;5;241m=\u001b[39m g[\u001b[38;5;241m0\u001b[39m] \u001b[38;5;28;01mif\u001b[39;00m \u001b[38;5;28misinstance\u001b[39m(argnums, \u001b[38;5;28mint\u001b[39m) \u001b[38;5;28;01melse\u001b[39;00m g\n\u001b[1;32m    725\u001b[0m \u001b[38;5;28;01mif\u001b[39;00m \u001b[38;5;129;01mnot\u001b[39;00m has_aux:\n",
      "File \u001b[0;32m~/git_supply/nndp/env/lib/python3.11/site-packages/jax/_src/tree_util.py:485\u001b[0m, in \u001b[0;36m_HashableCallableShim.__call__\u001b[0;34m(self, *args, **kw)\u001b[0m\n\u001b[1;32m    484\u001b[0m \u001b[38;5;28;01mdef\u001b[39;00m \u001b[38;5;21m__call__\u001b[39m(\u001b[38;5;28mself\u001b[39m, \u001b[38;5;241m*\u001b[39margs, \u001b[38;5;241m*\u001b[39m\u001b[38;5;241m*\u001b[39mkw):\n\u001b[0;32m--> 485\u001b[0m   \u001b[38;5;28;01mreturn\u001b[39;00m \u001b[38;5;28;43mself\u001b[39;49m\u001b[38;5;241;43m.\u001b[39;49m\u001b[43mfun\u001b[49m\u001b[43m(\u001b[49m\u001b[38;5;241;43m*\u001b[39;49m\u001b[43margs\u001b[49m\u001b[43m,\u001b[49m\u001b[43m \u001b[49m\u001b[38;5;241;43m*\u001b[39;49m\u001b[38;5;241;43m*\u001b[39;49m\u001b[43mkw\u001b[49m\u001b[43m)\u001b[49m\n",
      "File \u001b[0;32m~/git_supply/nndp/env/lib/python3.11/site-packages/jax/_src/api.py:2135\u001b[0m, in \u001b[0;36m_vjp_pullback_wrapper\u001b[0;34m(name, cotangent_dtypes, cotangent_shapes, io_tree, fun, *py_args_)\u001b[0m\n\u001b[1;32m   2130\u001b[0m   \u001b[38;5;28;01mif\u001b[39;00m np\u001b[38;5;241m.\u001b[39mshape(arg) \u001b[38;5;241m!=\u001b[39m ct_shape:\n\u001b[1;32m   2131\u001b[0m     \u001b[38;5;28;01mraise\u001b[39;00m \u001b[38;5;167;01mValueError\u001b[39;00m(\n\u001b[1;32m   2132\u001b[0m         \u001b[38;5;124mf\u001b[39m\u001b[38;5;124m\"\u001b[39m\u001b[38;5;124mShape of cotangent input to vjp pullback function \u001b[39m\u001b[38;5;132;01m{\u001b[39;00mnp\u001b[38;5;241m.\u001b[39mshape(arg)\u001b[38;5;132;01m}\u001b[39;00m\u001b[38;5;124m \u001b[39m\u001b[38;5;124m\"\u001b[39m\n\u001b[1;32m   2133\u001b[0m         \u001b[38;5;124m\"\u001b[39m\u001b[38;5;124mmust be the same as the shape of corresponding primal input \u001b[39m\u001b[38;5;124m\"\u001b[39m\n\u001b[1;32m   2134\u001b[0m         \u001b[38;5;124mf\u001b[39m\u001b[38;5;124m\"\u001b[39m\u001b[38;5;132;01m{\u001b[39;00mct_shape\u001b[38;5;132;01m}\u001b[39;00m\u001b[38;5;124m.\u001b[39m\u001b[38;5;124m\"\u001b[39m)\n\u001b[0;32m-> 2135\u001b[0m ans \u001b[38;5;241m=\u001b[39m \u001b[43mfun\u001b[49m\u001b[43m(\u001b[49m\u001b[38;5;241;43m*\u001b[39;49m\u001b[43margs\u001b[49m\u001b[43m)\u001b[49m\n\u001b[1;32m   2136\u001b[0m \u001b[38;5;28;01mreturn\u001b[39;00m tree_unflatten(out_tree, ans)\n",
      "File \u001b[0;32m~/git_supply/nndp/env/lib/python3.11/site-packages/jax/_src/tree_util.py:485\u001b[0m, in \u001b[0;36m_HashableCallableShim.__call__\u001b[0;34m(self, *args, **kw)\u001b[0m\n\u001b[1;32m    484\u001b[0m \u001b[38;5;28;01mdef\u001b[39;00m \u001b[38;5;21m__call__\u001b[39m(\u001b[38;5;28mself\u001b[39m, \u001b[38;5;241m*\u001b[39margs, \u001b[38;5;241m*\u001b[39m\u001b[38;5;241m*\u001b[39mkw):\n\u001b[0;32m--> 485\u001b[0m   \u001b[38;5;28;01mreturn\u001b[39;00m \u001b[38;5;28;43mself\u001b[39;49m\u001b[38;5;241;43m.\u001b[39;49m\u001b[43mfun\u001b[49m\u001b[43m(\u001b[49m\u001b[38;5;241;43m*\u001b[39;49m\u001b[43margs\u001b[49m\u001b[43m,\u001b[49m\u001b[43m \u001b[49m\u001b[38;5;241;43m*\u001b[39;49m\u001b[38;5;241;43m*\u001b[39;49m\u001b[43mkw\u001b[49m\u001b[43m)\u001b[49m\n",
      "File \u001b[0;32m~/git_supply/nndp/env/lib/python3.11/site-packages/jax/_src/interpreters/ad.py:150\u001b[0m, in \u001b[0;36mvjp.<locals>.unbound_vjp\u001b[0;34m(pvals, jaxpr, consts, *cts)\u001b[0m\n\u001b[1;32m    148\u001b[0m cts \u001b[38;5;241m=\u001b[39m \u001b[38;5;28mtuple\u001b[39m(ct \u001b[38;5;28;01mfor\u001b[39;00m ct, pval \u001b[38;5;129;01min\u001b[39;00m \u001b[38;5;28mzip\u001b[39m(cts, pvals) \u001b[38;5;28;01mif\u001b[39;00m \u001b[38;5;129;01mnot\u001b[39;00m pval\u001b[38;5;241m.\u001b[39mis_known())\n\u001b[1;32m    149\u001b[0m dummy_args \u001b[38;5;241m=\u001b[39m [UndefinedPrimal(v\u001b[38;5;241m.\u001b[39maval) \u001b[38;5;28;01mfor\u001b[39;00m v \u001b[38;5;129;01min\u001b[39;00m jaxpr\u001b[38;5;241m.\u001b[39minvars]\n\u001b[0;32m--> 150\u001b[0m arg_cts \u001b[38;5;241m=\u001b[39m \u001b[43mbackward_pass\u001b[49m\u001b[43m(\u001b[49m\u001b[43mjaxpr\u001b[49m\u001b[43m,\u001b[49m\u001b[43m \u001b[49m\u001b[38;5;28;43;01mTrue\u001b[39;49;00m\u001b[43m,\u001b[49m\u001b[43m \u001b[49m\u001b[43mconsts\u001b[49m\u001b[43m,\u001b[49m\u001b[43m \u001b[49m\u001b[43mdummy_args\u001b[49m\u001b[43m,\u001b[49m\u001b[43m \u001b[49m\u001b[43mcts\u001b[49m\u001b[43m)\u001b[49m\n\u001b[1;32m    151\u001b[0m \u001b[38;5;28;01mreturn\u001b[39;00m \u001b[38;5;28mmap\u001b[39m(instantiate_zeros, arg_cts)\n",
      "File \u001b[0;32m~/git_supply/nndp/env/lib/python3.11/site-packages/jax/_src/interpreters/ad.py:249\u001b[0m, in \u001b[0;36mbackward_pass\u001b[0;34m(jaxpr, transform_stack, consts, primals_in, cotangents_in)\u001b[0m\n\u001b[1;32m    246\u001b[0m   cts_out \u001b[38;5;241m=\u001b[39m get_primitive_transpose(eqn\u001b[38;5;241m.\u001b[39mprimitive)(\n\u001b[1;32m    247\u001b[0m       params, call_jaxpr, invals, cts_in, cts_in_avals)\n\u001b[1;32m    248\u001b[0m \u001b[38;5;28;01melif\u001b[39;00m eqn\u001b[38;5;241m.\u001b[39mprimitive \u001b[38;5;129;01min\u001b[39;00m reducing_transposes:\n\u001b[0;32m--> 249\u001b[0m   cts_out \u001b[38;5;241m=\u001b[39m \u001b[43mreducing_transposes\u001b[49m\u001b[43m[\u001b[49m\u001b[43meqn\u001b[49m\u001b[38;5;241;43m.\u001b[39;49m\u001b[43mprimitive\u001b[49m\u001b[43m]\u001b[49m\u001b[43m(\u001b[49m\n\u001b[1;32m    250\u001b[0m \u001b[43m      \u001b[49m\u001b[43mcts_in\u001b[49m\u001b[43m,\u001b[49m\u001b[43m \u001b[49m\u001b[38;5;241;43m*\u001b[39;49m\u001b[43minvals\u001b[49m\u001b[43m,\u001b[49m\u001b[43m \u001b[49m\u001b[38;5;241;43m*\u001b[39;49m\u001b[38;5;241;43m*\u001b[39;49m\u001b[43meqn\u001b[49m\u001b[38;5;241;43m.\u001b[39;49m\u001b[43mparams\u001b[49m\u001b[43m)\u001b[49m\n\u001b[1;32m    251\u001b[0m \u001b[38;5;28;01melse\u001b[39;00m:\n\u001b[1;32m    252\u001b[0m   cts_out \u001b[38;5;241m=\u001b[39m get_primitive_transpose(eqn\u001b[38;5;241m.\u001b[39mprimitive)(\n\u001b[1;32m    253\u001b[0m       cts_in, \u001b[38;5;241m*\u001b[39minvals, \u001b[38;5;241m*\u001b[39m\u001b[38;5;241m*\u001b[39meqn\u001b[38;5;241m.\u001b[39mparams)\n",
      "File \u001b[0;32m~/git_supply/nndp/env/lib/python3.11/site-packages/jax/_src/lax/control_flow/loops.py:791\u001b[0m, in \u001b[0;36m_scan_transpose\u001b[0;34m(cts, reverse, length, num_consts, num_carry, jaxpr, linear, unroll, _split_transpose, *args)\u001b[0m\n\u001b[1;32m    788\u001b[0m transpose_num_out_carry \u001b[38;5;241m=\u001b[39m num_consts\u001b[38;5;241m-\u001b[39mnum_ires\u001b[38;5;241m+\u001b[39mnum_carry\u001b[38;5;241m+\u001b[39m\u001b[38;5;28mlen\u001b[39m(attrs_tracked)\n\u001b[1;32m    790\u001b[0m \u001b[38;5;28;01mif\u001b[39;00m \u001b[38;5;129;01mnot\u001b[39;00m _split_transpose:\n\u001b[0;32m--> 791\u001b[0m   outs \u001b[38;5;241m=\u001b[39m \u001b[43mscan_p\u001b[49m\u001b[38;5;241;43m.\u001b[39;49m\u001b[43mbind\u001b[49m\u001b[43m(\u001b[49m\n\u001b[1;32m    792\u001b[0m \u001b[43m      \u001b[49m\u001b[38;5;241;43m*\u001b[39;49m\u001b[43mtranspose_inputs\u001b[49m\u001b[43m,\u001b[49m\n\u001b[1;32m    793\u001b[0m \u001b[43m      \u001b[49m\u001b[43mreverse\u001b[49m\u001b[38;5;241;43m=\u001b[39;49m\u001b[38;5;129;43;01mnot\u001b[39;49;00m\u001b[43m \u001b[49m\u001b[43mreverse\u001b[49m\u001b[43m,\u001b[49m\u001b[43m \u001b[49m\u001b[43mlength\u001b[49m\u001b[38;5;241;43m=\u001b[39;49m\u001b[43mlength\u001b[49m\u001b[43m,\u001b[49m\u001b[43m \u001b[49m\u001b[43mjaxpr\u001b[49m\u001b[38;5;241;43m=\u001b[39;49m\u001b[43mjaxpr_trans\u001b[49m\u001b[43m,\u001b[49m\n\u001b[1;32m    794\u001b[0m \u001b[43m      \u001b[49m\u001b[43mnum_consts\u001b[49m\u001b[38;5;241;43m=\u001b[39;49m\u001b[43mnum_ires\u001b[49m\u001b[43m,\u001b[49m\n\u001b[1;32m    795\u001b[0m \u001b[43m      \u001b[49m\u001b[43mnum_carry\u001b[49m\u001b[38;5;241;43m=\u001b[39;49m\u001b[43mtranspose_num_out_carry\u001b[49m\u001b[43m,\u001b[49m\n\u001b[1;32m    796\u001b[0m \u001b[43m      \u001b[49m\u001b[43mlinear\u001b[49m\u001b[38;5;241;43m=\u001b[39;49m\u001b[38;5;28;43mtuple\u001b[39;49m\u001b[43m(\u001b[49m\u001b[43mlinear_trans\u001b[49m\u001b[43m)\u001b[49m\u001b[43m,\u001b[49m\u001b[43m \u001b[49m\u001b[43munroll\u001b[49m\u001b[38;5;241;43m=\u001b[39;49m\u001b[43munroll\u001b[49m\u001b[43m,\u001b[49m\n\u001b[1;32m    797\u001b[0m \u001b[43m      \u001b[49m\u001b[43m_split_transpose\u001b[49m\u001b[38;5;241;43m=\u001b[39;49m\u001b[38;5;28;43;01mFalse\u001b[39;49;00m\u001b[43m)\u001b[49m\n\u001b[1;32m    798\u001b[0m \u001b[38;5;28;01melse\u001b[39;00m:\n\u001b[1;32m    799\u001b[0m   inst_mask \u001b[38;5;241m=\u001b[39m [\u001b[38;5;28;01mFalse\u001b[39;00m] \u001b[38;5;241m*\u001b[39m transpose_num_out_carry \u001b[38;5;241m+\u001b[39m  [\u001b[38;5;28;01mTrue\u001b[39;00m] \u001b[38;5;241m*\u001b[39m (\n\u001b[1;32m    800\u001b[0m       \u001b[38;5;28mlen\u001b[39m(jaxpr_trans\u001b[38;5;241m.\u001b[39mout_avals) \u001b[38;5;241m-\u001b[39m transpose_num_out_carry)\n",
      "File \u001b[0;32m~/git_supply/nndp/env/lib/python3.11/site-packages/jax/_src/lax/control_flow/loops.py:1262\u001b[0m, in \u001b[0;36mscan_bind\u001b[0;34m(*args, **params)\u001b[0m\n\u001b[1;32m   1260\u001b[0m   _scan_typecheck(\u001b[38;5;28;01mTrue\u001b[39;00m, \u001b[38;5;241m*\u001b[39min_atoms, \u001b[38;5;241m*\u001b[39m\u001b[38;5;241m*\u001b[39mparams)\n\u001b[1;32m   1261\u001b[0m   core\u001b[38;5;241m.\u001b[39mcheck_jaxpr(params[\u001b[38;5;124m'\u001b[39m\u001b[38;5;124mjaxpr\u001b[39m\u001b[38;5;124m'\u001b[39m]\u001b[38;5;241m.\u001b[39mjaxpr)\n\u001b[0;32m-> 1262\u001b[0m \u001b[38;5;28;01mreturn\u001b[39;00m \u001b[43mcore\u001b[49m\u001b[38;5;241;43m.\u001b[39;49m\u001b[43mAxisPrimitive\u001b[49m\u001b[38;5;241;43m.\u001b[39;49m\u001b[43mbind\u001b[49m\u001b[43m(\u001b[49m\u001b[43mscan_p\u001b[49m\u001b[43m,\u001b[49m\u001b[43m \u001b[49m\u001b[38;5;241;43m*\u001b[39;49m\u001b[43margs\u001b[49m\u001b[43m,\u001b[49m\u001b[43m \u001b[49m\u001b[38;5;241;43m*\u001b[39;49m\u001b[38;5;241;43m*\u001b[39;49m\u001b[43mparams\u001b[49m\u001b[43m)\u001b[49m\n",
      "File \u001b[0;32m~/git_supply/nndp/env/lib/python3.11/site-packages/jax/_src/core.py:2788\u001b[0m, in \u001b[0;36mAxisPrimitive.bind\u001b[0;34m(self, *args, **params)\u001b[0m\n\u001b[1;32m   2784\u001b[0m axis_main \u001b[38;5;241m=\u001b[39m \u001b[38;5;28mmax\u001b[39m((axis_frame(a)\u001b[38;5;241m.\u001b[39mmain_trace \u001b[38;5;28;01mfor\u001b[39;00m a \u001b[38;5;129;01min\u001b[39;00m used_axis_names(\u001b[38;5;28mself\u001b[39m, params)),\n\u001b[1;32m   2785\u001b[0m                 default\u001b[38;5;241m=\u001b[39m\u001b[38;5;28;01mNone\u001b[39;00m, key\u001b[38;5;241m=\u001b[39m\u001b[38;5;28;01mlambda\u001b[39;00m t: \u001b[38;5;28mgetattr\u001b[39m(t, \u001b[38;5;124m'\u001b[39m\u001b[38;5;124mlevel\u001b[39m\u001b[38;5;124m'\u001b[39m, \u001b[38;5;241m-\u001b[39m\u001b[38;5;241m1\u001b[39m))\n\u001b[1;32m   2786\u001b[0m top_trace \u001b[38;5;241m=\u001b[39m (top_trace \u001b[38;5;28;01mif\u001b[39;00m \u001b[38;5;129;01mnot\u001b[39;00m axis_main \u001b[38;5;129;01mor\u001b[39;00m axis_main\u001b[38;5;241m.\u001b[39mlevel \u001b[38;5;241m<\u001b[39m top_trace\u001b[38;5;241m.\u001b[39mlevel\n\u001b[1;32m   2787\u001b[0m              \u001b[38;5;28;01melse\u001b[39;00m axis_main\u001b[38;5;241m.\u001b[39mwith_cur_sublevel())\n\u001b[0;32m-> 2788\u001b[0m \u001b[38;5;28;01mreturn\u001b[39;00m \u001b[38;5;28;43mself\u001b[39;49m\u001b[38;5;241;43m.\u001b[39;49m\u001b[43mbind_with_trace\u001b[49m\u001b[43m(\u001b[49m\u001b[43mtop_trace\u001b[49m\u001b[43m,\u001b[49m\u001b[43m \u001b[49m\u001b[43margs\u001b[49m\u001b[43m,\u001b[49m\u001b[43m \u001b[49m\u001b[43mparams\u001b[49m\u001b[43m)\u001b[49m\n",
      "File \u001b[0;32m~/git_supply/nndp/env/lib/python3.11/site-packages/jax/_src/core.py:425\u001b[0m, in \u001b[0;36mPrimitive.bind_with_trace\u001b[0;34m(self, trace, args, params)\u001b[0m\n\u001b[1;32m    424\u001b[0m \u001b[38;5;28;01mdef\u001b[39;00m \u001b[38;5;21mbind_with_trace\u001b[39m(\u001b[38;5;28mself\u001b[39m, trace, args, params):\n\u001b[0;32m--> 425\u001b[0m   out \u001b[38;5;241m=\u001b[39m \u001b[43mtrace\u001b[49m\u001b[38;5;241;43m.\u001b[39;49m\u001b[43mprocess_primitive\u001b[49m\u001b[43m(\u001b[49m\u001b[38;5;28;43mself\u001b[39;49m\u001b[43m,\u001b[49m\u001b[43m \u001b[49m\u001b[38;5;28;43mmap\u001b[39;49m\u001b[43m(\u001b[49m\u001b[43mtrace\u001b[49m\u001b[38;5;241;43m.\u001b[39;49m\u001b[43mfull_raise\u001b[49m\u001b[43m,\u001b[49m\u001b[43m \u001b[49m\u001b[43margs\u001b[49m\u001b[43m)\u001b[49m\u001b[43m,\u001b[49m\u001b[43m \u001b[49m\u001b[43mparams\u001b[49m\u001b[43m)\u001b[49m\n\u001b[1;32m    426\u001b[0m   \u001b[38;5;28;01mreturn\u001b[39;00m \u001b[38;5;28mmap\u001b[39m(full_lower, out) \u001b[38;5;28;01mif\u001b[39;00m \u001b[38;5;28mself\u001b[39m\u001b[38;5;241m.\u001b[39mmultiple_results \u001b[38;5;28;01melse\u001b[39;00m full_lower(out)\n",
      "File \u001b[0;32m~/git_supply/nndp/env/lib/python3.11/site-packages/jax/_src/core.py:913\u001b[0m, in \u001b[0;36mEvalTrace.process_primitive\u001b[0;34m(self, primitive, tracers, params)\u001b[0m\n\u001b[1;32m    912\u001b[0m \u001b[38;5;28;01mdef\u001b[39;00m \u001b[38;5;21mprocess_primitive\u001b[39m(\u001b[38;5;28mself\u001b[39m, primitive, tracers, params):\n\u001b[0;32m--> 913\u001b[0m   \u001b[38;5;28;01mreturn\u001b[39;00m \u001b[43mprimitive\u001b[49m\u001b[38;5;241;43m.\u001b[39;49m\u001b[43mimpl\u001b[49m\u001b[43m(\u001b[49m\u001b[38;5;241;43m*\u001b[39;49m\u001b[43mtracers\u001b[49m\u001b[43m,\u001b[49m\u001b[43m \u001b[49m\u001b[38;5;241;43m*\u001b[39;49m\u001b[38;5;241;43m*\u001b[39;49m\u001b[43mparams\u001b[49m\u001b[43m)\u001b[49m\n",
      "File \u001b[0;32m~/git_supply/nndp/env/lib/python3.11/site-packages/jax/_src/dispatch.py:87\u001b[0m, in \u001b[0;36mapply_primitive\u001b[0;34m(prim, *args, **params)\u001b[0m\n\u001b[1;32m     85\u001b[0m prev \u001b[38;5;241m=\u001b[39m lib\u001b[38;5;241m.\u001b[39mjax_jit\u001b[38;5;241m.\u001b[39mswap_thread_local_state_disable_jit(\u001b[38;5;28;01mFalse\u001b[39;00m)\n\u001b[1;32m     86\u001b[0m \u001b[38;5;28;01mtry\u001b[39;00m:\n\u001b[0;32m---> 87\u001b[0m   outs \u001b[38;5;241m=\u001b[39m \u001b[43mfun\u001b[49m\u001b[43m(\u001b[49m\u001b[38;5;241;43m*\u001b[39;49m\u001b[43margs\u001b[49m\u001b[43m)\u001b[49m\n\u001b[1;32m     88\u001b[0m \u001b[38;5;28;01mfinally\u001b[39;00m:\n\u001b[1;32m     89\u001b[0m   lib\u001b[38;5;241m.\u001b[39mjax_jit\u001b[38;5;241m.\u001b[39mswap_thread_local_state_disable_jit(prev)\n",
      "    \u001b[0;31m[... skipping hidden 1 frame]\u001b[0m\n",
      "File \u001b[0;32m~/git_supply/nndp/env/lib/python3.11/site-packages/jax/_src/pjit.py:298\u001b[0m, in \u001b[0;36m_cpp_pjit.<locals>.cache_miss\u001b[0;34m(*args, **kwargs)\u001b[0m\n\u001b[1;32m    296\u001b[0m \u001b[38;5;129m@api_boundary\u001b[39m\n\u001b[1;32m    297\u001b[0m \u001b[38;5;28;01mdef\u001b[39;00m \u001b[38;5;21mcache_miss\u001b[39m(\u001b[38;5;241m*\u001b[39margs, \u001b[38;5;241m*\u001b[39m\u001b[38;5;241m*\u001b[39mkwargs):\n\u001b[0;32m--> 298\u001b[0m   outs, out_flat, out_tree, args_flat, jaxpr, attrs_tracked \u001b[38;5;241m=\u001b[39m \u001b[43m_python_pjit_helper\u001b[49m\u001b[43m(\u001b[49m\n\u001b[1;32m    299\u001b[0m \u001b[43m      \u001b[49m\u001b[43mjit_info\u001b[49m\u001b[43m,\u001b[49m\u001b[43m \u001b[49m\u001b[38;5;241;43m*\u001b[39;49m\u001b[43margs\u001b[49m\u001b[43m,\u001b[49m\u001b[43m \u001b[49m\u001b[38;5;241;43m*\u001b[39;49m\u001b[38;5;241;43m*\u001b[39;49m\u001b[43mkwargs\u001b[49m\u001b[43m)\u001b[49m\n\u001b[1;32m    300\u001b[0m   executable \u001b[38;5;241m=\u001b[39m _read_most_recent_pjit_call_executable(jaxpr)\n\u001b[1;32m    301\u001b[0m   maybe_fastpath_data \u001b[38;5;241m=\u001b[39m _get_fastpath_data(\n\u001b[1;32m    302\u001b[0m       executable, out_tree, args_flat, out_flat, attrs_tracked, jaxpr\u001b[38;5;241m.\u001b[39meffects,\n\u001b[1;32m    303\u001b[0m       jit_info\u001b[38;5;241m.\u001b[39mabstracted_axes)\n",
      "File \u001b[0;32m~/git_supply/nndp/env/lib/python3.11/site-packages/jax/_src/pjit.py:176\u001b[0m, in \u001b[0;36m_python_pjit_helper\u001b[0;34m(jit_info, *args, **kwargs)\u001b[0m\n\u001b[1;32m    173\u001b[0m   args_flat \u001b[38;5;241m=\u001b[39m [\u001b[38;5;241m*\u001b[39minit_states, \u001b[38;5;241m*\u001b[39margs_flat]\n\u001b[1;32m    175\u001b[0m \u001b[38;5;28;01mtry\u001b[39;00m:\n\u001b[0;32m--> 176\u001b[0m   out_flat \u001b[38;5;241m=\u001b[39m \u001b[43mpjit_p\u001b[49m\u001b[38;5;241;43m.\u001b[39;49m\u001b[43mbind\u001b[49m\u001b[43m(\u001b[49m\u001b[38;5;241;43m*\u001b[39;49m\u001b[43margs_flat\u001b[49m\u001b[43m,\u001b[49m\u001b[43m \u001b[49m\u001b[38;5;241;43m*\u001b[39;49m\u001b[38;5;241;43m*\u001b[39;49m\u001b[43mparams\u001b[49m\u001b[43m)\u001b[49m\n\u001b[1;32m    177\u001b[0m \u001b[38;5;28;01mexcept\u001b[39;00m pxla\u001b[38;5;241m.\u001b[39mDeviceAssignmentMismatchError \u001b[38;5;28;01mas\u001b[39;00m e:\n\u001b[1;32m    178\u001b[0m   fails, \u001b[38;5;241m=\u001b[39m e\u001b[38;5;241m.\u001b[39margs\n",
      "File \u001b[0;32m~/git_supply/nndp/env/lib/python3.11/site-packages/jax/_src/core.py:2788\u001b[0m, in \u001b[0;36mAxisPrimitive.bind\u001b[0;34m(self, *args, **params)\u001b[0m\n\u001b[1;32m   2784\u001b[0m axis_main \u001b[38;5;241m=\u001b[39m \u001b[38;5;28mmax\u001b[39m((axis_frame(a)\u001b[38;5;241m.\u001b[39mmain_trace \u001b[38;5;28;01mfor\u001b[39;00m a \u001b[38;5;129;01min\u001b[39;00m used_axis_names(\u001b[38;5;28mself\u001b[39m, params)),\n\u001b[1;32m   2785\u001b[0m                 default\u001b[38;5;241m=\u001b[39m\u001b[38;5;28;01mNone\u001b[39;00m, key\u001b[38;5;241m=\u001b[39m\u001b[38;5;28;01mlambda\u001b[39;00m t: \u001b[38;5;28mgetattr\u001b[39m(t, \u001b[38;5;124m'\u001b[39m\u001b[38;5;124mlevel\u001b[39m\u001b[38;5;124m'\u001b[39m, \u001b[38;5;241m-\u001b[39m\u001b[38;5;241m1\u001b[39m))\n\u001b[1;32m   2786\u001b[0m top_trace \u001b[38;5;241m=\u001b[39m (top_trace \u001b[38;5;28;01mif\u001b[39;00m \u001b[38;5;129;01mnot\u001b[39;00m axis_main \u001b[38;5;129;01mor\u001b[39;00m axis_main\u001b[38;5;241m.\u001b[39mlevel \u001b[38;5;241m<\u001b[39m top_trace\u001b[38;5;241m.\u001b[39mlevel\n\u001b[1;32m   2787\u001b[0m              \u001b[38;5;28;01melse\u001b[39;00m axis_main\u001b[38;5;241m.\u001b[39mwith_cur_sublevel())\n\u001b[0;32m-> 2788\u001b[0m \u001b[38;5;28;01mreturn\u001b[39;00m \u001b[38;5;28;43mself\u001b[39;49m\u001b[38;5;241;43m.\u001b[39;49m\u001b[43mbind_with_trace\u001b[49m\u001b[43m(\u001b[49m\u001b[43mtop_trace\u001b[49m\u001b[43m,\u001b[49m\u001b[43m \u001b[49m\u001b[43margs\u001b[49m\u001b[43m,\u001b[49m\u001b[43m \u001b[49m\u001b[43mparams\u001b[49m\u001b[43m)\u001b[49m\n",
      "File \u001b[0;32m~/git_supply/nndp/env/lib/python3.11/site-packages/jax/_src/core.py:425\u001b[0m, in \u001b[0;36mPrimitive.bind_with_trace\u001b[0;34m(self, trace, args, params)\u001b[0m\n\u001b[1;32m    424\u001b[0m \u001b[38;5;28;01mdef\u001b[39;00m \u001b[38;5;21mbind_with_trace\u001b[39m(\u001b[38;5;28mself\u001b[39m, trace, args, params):\n\u001b[0;32m--> 425\u001b[0m   out \u001b[38;5;241m=\u001b[39m \u001b[43mtrace\u001b[49m\u001b[38;5;241;43m.\u001b[39;49m\u001b[43mprocess_primitive\u001b[49m\u001b[43m(\u001b[49m\u001b[38;5;28;43mself\u001b[39;49m\u001b[43m,\u001b[49m\u001b[43m \u001b[49m\u001b[38;5;28;43mmap\u001b[39;49m\u001b[43m(\u001b[49m\u001b[43mtrace\u001b[49m\u001b[38;5;241;43m.\u001b[39;49m\u001b[43mfull_raise\u001b[49m\u001b[43m,\u001b[49m\u001b[43m \u001b[49m\u001b[43margs\u001b[49m\u001b[43m)\u001b[49m\u001b[43m,\u001b[49m\u001b[43m \u001b[49m\u001b[43mparams\u001b[49m\u001b[43m)\u001b[49m\n\u001b[1;32m    426\u001b[0m   \u001b[38;5;28;01mreturn\u001b[39;00m \u001b[38;5;28mmap\u001b[39m(full_lower, out) \u001b[38;5;28;01mif\u001b[39;00m \u001b[38;5;28mself\u001b[39m\u001b[38;5;241m.\u001b[39mmultiple_results \u001b[38;5;28;01melse\u001b[39;00m full_lower(out)\n",
      "File \u001b[0;32m~/git_supply/nndp/env/lib/python3.11/site-packages/jax/_src/core.py:913\u001b[0m, in \u001b[0;36mEvalTrace.process_primitive\u001b[0;34m(self, primitive, tracers, params)\u001b[0m\n\u001b[1;32m    912\u001b[0m \u001b[38;5;28;01mdef\u001b[39;00m \u001b[38;5;21mprocess_primitive\u001b[39m(\u001b[38;5;28mself\u001b[39m, primitive, tracers, params):\n\u001b[0;32m--> 913\u001b[0m   \u001b[38;5;28;01mreturn\u001b[39;00m \u001b[43mprimitive\u001b[49m\u001b[38;5;241;43m.\u001b[39;49m\u001b[43mimpl\u001b[49m\u001b[43m(\u001b[49m\u001b[38;5;241;43m*\u001b[39;49m\u001b[43mtracers\u001b[49m\u001b[43m,\u001b[49m\u001b[43m \u001b[49m\u001b[38;5;241;43m*\u001b[39;49m\u001b[38;5;241;43m*\u001b[39;49m\u001b[43mparams\u001b[49m\u001b[43m)\u001b[49m\n",
      "File \u001b[0;32m~/git_supply/nndp/env/lib/python3.11/site-packages/jax/_src/pjit.py:1488\u001b[0m, in \u001b[0;36m_pjit_call_impl\u001b[0;34m(jaxpr, in_shardings, out_shardings, resource_env, donated_invars, name, keep_unused, inline, *args)\u001b[0m\n\u001b[1;32m   1485\u001b[0m has_explicit_sharding \u001b[38;5;241m=\u001b[39m _pjit_explicit_sharding(\n\u001b[1;32m   1486\u001b[0m     in_shardings, out_shardings, \u001b[38;5;28;01mNone\u001b[39;00m, \u001b[38;5;28;01mNone\u001b[39;00m)\n\u001b[1;32m   1487\u001b[0m \u001b[38;5;28;01mif\u001b[39;00m xla_extension_version \u001b[38;5;241m>\u001b[39m\u001b[38;5;241m=\u001b[39m \u001b[38;5;241m226\u001b[39m:\n\u001b[0;32m-> 1488\u001b[0m   \u001b[38;5;28;01mreturn\u001b[39;00m \u001b[43mxc\u001b[49m\u001b[38;5;241;43m.\u001b[39;49m\u001b[43m_xla\u001b[49m\u001b[38;5;241;43m.\u001b[39;49m\u001b[43mpjit\u001b[49m\u001b[43m(\u001b[49m\n\u001b[1;32m   1489\u001b[0m \u001b[43m      \u001b[49m\u001b[43mname\u001b[49m\u001b[43m,\u001b[49m\u001b[43m \u001b[49m\u001b[43mf\u001b[49m\u001b[43m,\u001b[49m\u001b[43m \u001b[49m\u001b[43mcall_impl_cache_miss\u001b[49m\u001b[43m,\u001b[49m\u001b[43m \u001b[49m\u001b[43m[\u001b[49m\u001b[43m]\u001b[49m\u001b[43m,\u001b[49m\u001b[43m \u001b[49m\u001b[43m[\u001b[49m\u001b[43m]\u001b[49m\u001b[43m,\u001b[49m\u001b[43m \u001b[49m\u001b[43mdonated_argnums\u001b[49m\u001b[43m,\u001b[49m\n\u001b[1;32m   1490\u001b[0m \u001b[43m      \u001b[49m\u001b[43mtree_util\u001b[49m\u001b[38;5;241;43m.\u001b[39;49m\u001b[43mdispatch_registry\u001b[49m\u001b[43m,\u001b[49m\n\u001b[1;32m   1491\u001b[0m \u001b[43m      \u001b[49m\u001b[43mpxla\u001b[49m\u001b[38;5;241;43m.\u001b[39;49m\u001b[43mshard_arg\u001b[49m\u001b[43m \u001b[49m\u001b[38;5;28;43;01mif\u001b[39;49;00m\u001b[43m \u001b[49m\u001b[43mxla_extension_version\u001b[49m\u001b[43m \u001b[49m\u001b[38;5;241;43m>\u001b[39;49m\u001b[38;5;241;43m=\u001b[39;49m\u001b[43m \u001b[49m\u001b[38;5;241;43m229\u001b[39;49m\u001b[43m \u001b[49m\u001b[38;5;28;43;01melse\u001b[39;49;00m\u001b[43m \u001b[49m\u001b[43mpxla\u001b[49m\u001b[38;5;241;43m.\u001b[39;49m\u001b[43mtemp_shard_arg\u001b[49m\u001b[43m,\u001b[49m\u001b[43m  \u001b[49m\u001b[38;5;66;43;03m# type: ignore\u001b[39;49;00m\n\u001b[1;32m   1492\u001b[0m \u001b[43m      \u001b[49m\u001b[43m_get_cpp_global_cache\u001b[49m\u001b[43m(\u001b[49m\u001b[43mhas_explicit_sharding\u001b[49m\u001b[43m)\u001b[49m\u001b[43m)\u001b[49m\u001b[43m(\u001b[49m\u001b[38;5;241;43m*\u001b[39;49m\u001b[43margs\u001b[49m\u001b[43m)\u001b[49m\n\u001b[1;32m   1493\u001b[0m \u001b[38;5;28;01melse\u001b[39;00m:\n\u001b[1;32m   1494\u001b[0m   \u001b[38;5;28;01mreturn\u001b[39;00m xc\u001b[38;5;241m.\u001b[39m_xla\u001b[38;5;241m.\u001b[39mpjit(name, f, call_impl_cache_miss, [], [], donated_argnums,  \u001b[38;5;66;03m# type: ignore\u001b[39;00m\n\u001b[1;32m   1495\u001b[0m                       tree_util\u001b[38;5;241m.\u001b[39mdispatch_registry,\n\u001b[1;32m   1496\u001b[0m                       _get_cpp_global_cache(has_explicit_sharding))(\u001b[38;5;241m*\u001b[39margs)\n",
      "File \u001b[0;32m~/git_supply/nndp/env/lib/python3.11/site-packages/jax/_src/pjit.py:1471\u001b[0m, in \u001b[0;36m_pjit_call_impl.<locals>.call_impl_cache_miss\u001b[0;34m(*args_, **kwargs_)\u001b[0m\n\u001b[1;32m   1470\u001b[0m \u001b[38;5;28;01mdef\u001b[39;00m \u001b[38;5;21mcall_impl_cache_miss\u001b[39m(\u001b[38;5;241m*\u001b[39margs_, \u001b[38;5;241m*\u001b[39m\u001b[38;5;241m*\u001b[39mkwargs_):\n\u001b[0;32m-> 1471\u001b[0m   out_flat, compiled \u001b[38;5;241m=\u001b[39m \u001b[43m_pjit_call_impl_python\u001b[49m\u001b[43m(\u001b[49m\n\u001b[1;32m   1472\u001b[0m \u001b[43m      \u001b[49m\u001b[38;5;241;43m*\u001b[39;49m\u001b[43margs\u001b[49m\u001b[43m,\u001b[49m\u001b[43m \u001b[49m\u001b[43mjaxpr\u001b[49m\u001b[38;5;241;43m=\u001b[39;49m\u001b[43mjaxpr\u001b[49m\u001b[43m,\u001b[49m\u001b[43m \u001b[49m\u001b[43min_shardings\u001b[49m\u001b[38;5;241;43m=\u001b[39;49m\u001b[43min_shardings\u001b[49m\u001b[43m,\u001b[49m\n\u001b[1;32m   1473\u001b[0m \u001b[43m      \u001b[49m\u001b[43mout_shardings\u001b[49m\u001b[38;5;241;43m=\u001b[39;49m\u001b[43mout_shardings\u001b[49m\u001b[43m,\u001b[49m\u001b[43m \u001b[49m\u001b[43mresource_env\u001b[49m\u001b[38;5;241;43m=\u001b[39;49m\u001b[43mresource_env\u001b[49m\u001b[43m,\u001b[49m\n\u001b[1;32m   1474\u001b[0m \u001b[43m      \u001b[49m\u001b[43mdonated_invars\u001b[49m\u001b[38;5;241;43m=\u001b[39;49m\u001b[43mdonated_invars\u001b[49m\u001b[43m,\u001b[49m\u001b[43m \u001b[49m\u001b[43mname\u001b[49m\u001b[38;5;241;43m=\u001b[39;49m\u001b[43mname\u001b[49m\u001b[43m,\u001b[49m\u001b[43m \u001b[49m\u001b[43mkeep_unused\u001b[49m\u001b[38;5;241;43m=\u001b[39;49m\u001b[43mkeep_unused\u001b[49m\u001b[43m,\u001b[49m\n\u001b[1;32m   1475\u001b[0m \u001b[43m      \u001b[49m\u001b[43minline\u001b[49m\u001b[38;5;241;43m=\u001b[39;49m\u001b[43minline\u001b[49m\u001b[43m)\u001b[49m\n\u001b[1;32m   1476\u001b[0m   fastpath_data \u001b[38;5;241m=\u001b[39m _get_fastpath_data(\n\u001b[1;32m   1477\u001b[0m       compiled, tree_structure(out_flat), args, out_flat, [], jaxpr\u001b[38;5;241m.\u001b[39meffects,\n\u001b[1;32m   1478\u001b[0m       \u001b[38;5;28;01mNone\u001b[39;00m)\n\u001b[1;32m   1479\u001b[0m   \u001b[38;5;28;01mreturn\u001b[39;00m out_flat, fastpath_data\n",
      "File \u001b[0;32m~/git_supply/nndp/env/lib/python3.11/site-packages/jax/_src/pjit.py:1406\u001b[0m, in \u001b[0;36m_pjit_call_impl_python\u001b[0;34m(jaxpr, in_shardings, out_shardings, resource_env, donated_invars, name, keep_unused, inline, *args)\u001b[0m\n\u001b[1;32m   1397\u001b[0m \u001b[38;5;28;01mglobal\u001b[39;00m _most_recent_pjit_call_executable\n\u001b[1;32m   1399\u001b[0m in_shardings \u001b[38;5;241m=\u001b[39m _resolve_in_shardings(\n\u001b[1;32m   1400\u001b[0m     args, in_shardings, out_shardings,\n\u001b[1;32m   1401\u001b[0m     resource_env\u001b[38;5;241m.\u001b[39mphysical_mesh \u001b[38;5;28;01mif\u001b[39;00m resource_env \u001b[38;5;129;01mis\u001b[39;00m \u001b[38;5;129;01mnot\u001b[39;00m \u001b[38;5;28;01mNone\u001b[39;00m \u001b[38;5;28;01melse\u001b[39;00m \u001b[38;5;28;01mNone\u001b[39;00m)\n\u001b[1;32m   1403\u001b[0m compiled \u001b[38;5;241m=\u001b[39m \u001b[43m_pjit_lower\u001b[49m\u001b[43m(\u001b[49m\n\u001b[1;32m   1404\u001b[0m \u001b[43m    \u001b[49m\u001b[43mjaxpr\u001b[49m\u001b[43m,\u001b[49m\u001b[43m \u001b[49m\u001b[43min_shardings\u001b[49m\u001b[43m,\u001b[49m\u001b[43m \u001b[49m\u001b[43mout_shardings\u001b[49m\u001b[43m,\u001b[49m\u001b[43m \u001b[49m\u001b[43mresource_env\u001b[49m\u001b[43m,\u001b[49m\n\u001b[1;32m   1405\u001b[0m \u001b[43m    \u001b[49m\u001b[43mdonated_invars\u001b[49m\u001b[43m,\u001b[49m\u001b[43m \u001b[49m\u001b[43mname\u001b[49m\u001b[43m,\u001b[49m\u001b[43m \u001b[49m\u001b[43mkeep_unused\u001b[49m\u001b[43m,\u001b[49m\u001b[43m \u001b[49m\u001b[43minline\u001b[49m\u001b[43m,\u001b[49m\n\u001b[0;32m-> 1406\u001b[0m \u001b[43m    \u001b[49m\u001b[43mlowering_parameters\u001b[49m\u001b[38;5;241;43m=\u001b[39;49m\u001b[43mmlir\u001b[49m\u001b[38;5;241;43m.\u001b[39;49m\u001b[43mLoweringParameters\u001b[49m\u001b[43m(\u001b[49m\u001b[43m)\u001b[49m\u001b[43m)\u001b[49m\u001b[38;5;241;43m.\u001b[39;49m\u001b[43mcompile\u001b[49m\u001b[43m(\u001b[49m\u001b[43m)\u001b[49m\n\u001b[1;32m   1407\u001b[0m _most_recent_pjit_call_executable\u001b[38;5;241m.\u001b[39mweak_key_dict[jaxpr] \u001b[38;5;241m=\u001b[39m compiled\n\u001b[1;32m   1408\u001b[0m \u001b[38;5;66;03m# This check is expensive so only do it if enable_checks is on.\u001b[39;00m\n",
      "File \u001b[0;32m~/git_supply/nndp/env/lib/python3.11/site-packages/jax/_src/interpreters/pxla.py:2369\u001b[0m, in \u001b[0;36mMeshComputation.compile\u001b[0;34m(self, compiler_options)\u001b[0m\n\u001b[1;32m   2367\u001b[0m \u001b[38;5;28;01mdef\u001b[39;00m \u001b[38;5;21mcompile\u001b[39m(\u001b[38;5;28mself\u001b[39m, compiler_options\u001b[38;5;241m=\u001b[39m\u001b[38;5;28;01mNone\u001b[39;00m) \u001b[38;5;241m-\u001b[39m\u001b[38;5;241m>\u001b[39m MeshExecutable:\n\u001b[1;32m   2368\u001b[0m   \u001b[38;5;28;01mif\u001b[39;00m \u001b[38;5;28mself\u001b[39m\u001b[38;5;241m.\u001b[39m_executable \u001b[38;5;129;01mis\u001b[39;00m \u001b[38;5;28;01mNone\u001b[39;00m \u001b[38;5;129;01mor\u001b[39;00m compiler_options \u001b[38;5;129;01mis\u001b[39;00m \u001b[38;5;129;01mnot\u001b[39;00m \u001b[38;5;28;01mNone\u001b[39;00m:\n\u001b[0;32m-> 2369\u001b[0m     executable \u001b[38;5;241m=\u001b[39m \u001b[43mUnloadedMeshExecutable\u001b[49m\u001b[38;5;241;43m.\u001b[39;49m\u001b[43mfrom_hlo\u001b[49m\u001b[43m(\u001b[49m\n\u001b[1;32m   2370\u001b[0m \u001b[43m        \u001b[49m\u001b[38;5;28;43mself\u001b[39;49m\u001b[38;5;241;43m.\u001b[39;49m\u001b[43m_name\u001b[49m\u001b[43m,\u001b[49m\u001b[43m \u001b[49m\u001b[38;5;28;43mself\u001b[39;49m\u001b[38;5;241;43m.\u001b[39;49m\u001b[43m_hlo\u001b[49m\u001b[43m,\u001b[49m\u001b[43m \u001b[49m\u001b[38;5;241;43m*\u001b[39;49m\u001b[38;5;241;43m*\u001b[39;49m\u001b[38;5;28;43mself\u001b[39;49m\u001b[38;5;241;43m.\u001b[39;49m\u001b[43mcompile_args\u001b[49m\u001b[43m,\u001b[49m\n\u001b[1;32m   2371\u001b[0m \u001b[43m        \u001b[49m\u001b[43mcompiler_options\u001b[49m\u001b[38;5;241;43m=\u001b[39;49m\u001b[43mcompiler_options\u001b[49m\u001b[43m)\u001b[49m\n\u001b[1;32m   2372\u001b[0m     \u001b[38;5;28;01mif\u001b[39;00m compiler_options \u001b[38;5;129;01mis\u001b[39;00m \u001b[38;5;28;01mNone\u001b[39;00m:\n\u001b[1;32m   2373\u001b[0m       \u001b[38;5;28mself\u001b[39m\u001b[38;5;241m.\u001b[39m_executable \u001b[38;5;241m=\u001b[39m executable\n",
      "File \u001b[0;32m~/git_supply/nndp/env/lib/python3.11/site-packages/jax/_src/interpreters/pxla.py:2908\u001b[0m, in \u001b[0;36mUnloadedMeshExecutable.from_hlo\u001b[0;34m(***failed resolving arguments***)\u001b[0m\n\u001b[1;32m   2905\u001b[0m       mesh \u001b[38;5;241m=\u001b[39m i\u001b[38;5;241m.\u001b[39mmesh  \u001b[38;5;66;03m# type: ignore\u001b[39;00m\n\u001b[1;32m   2906\u001b[0m       \u001b[38;5;28;01mbreak\u001b[39;00m\n\u001b[0;32m-> 2908\u001b[0m xla_executable, compile_options \u001b[38;5;241m=\u001b[39m \u001b[43m_cached_compilation\u001b[49m\u001b[43m(\u001b[49m\n\u001b[1;32m   2909\u001b[0m \u001b[43m    \u001b[49m\u001b[43mhlo\u001b[49m\u001b[43m,\u001b[49m\u001b[43m \u001b[49m\u001b[43mname\u001b[49m\u001b[43m,\u001b[49m\u001b[43m \u001b[49m\u001b[43mmesh\u001b[49m\u001b[43m,\u001b[49m\u001b[43m \u001b[49m\u001b[43mspmd_lowering\u001b[49m\u001b[43m,\u001b[49m\n\u001b[1;32m   2910\u001b[0m \u001b[43m    \u001b[49m\u001b[43mtuple_args\u001b[49m\u001b[43m,\u001b[49m\u001b[43m \u001b[49m\u001b[43mauto_spmd_lowering\u001b[49m\u001b[43m,\u001b[49m\u001b[43m \u001b[49m\u001b[43mallow_prop_to_inputs\u001b[49m\u001b[43m,\u001b[49m\n\u001b[1;32m   2911\u001b[0m \u001b[43m    \u001b[49m\u001b[43mallow_prop_to_outputs\u001b[49m\u001b[43m,\u001b[49m\u001b[43m \u001b[49m\u001b[38;5;28;43mtuple\u001b[39;49m\u001b[43m(\u001b[49m\u001b[43mhost_callbacks\u001b[49m\u001b[43m)\u001b[49m\u001b[43m,\u001b[49m\u001b[43m \u001b[49m\u001b[43mbackend\u001b[49m\u001b[43m,\u001b[49m\u001b[43m \u001b[49m\u001b[43mda\u001b[49m\u001b[43m,\u001b[49m\u001b[43m \u001b[49m\u001b[43mpmap_nreps\u001b[49m\u001b[43m,\u001b[49m\n\u001b[1;32m   2912\u001b[0m \u001b[43m    \u001b[49m\u001b[43mcompiler_options_keys\u001b[49m\u001b[43m,\u001b[49m\u001b[43m \u001b[49m\u001b[43mcompiler_options_values\u001b[49m\u001b[43m)\u001b[49m\n\u001b[1;32m   2914\u001b[0m \u001b[38;5;28;01mif\u001b[39;00m \u001b[38;5;28mhasattr\u001b[39m(backend, \u001b[38;5;124m\"\u001b[39m\u001b[38;5;124mcompile_replicated\u001b[39m\u001b[38;5;124m\"\u001b[39m):\n\u001b[1;32m   2915\u001b[0m   semantics_in_shardings \u001b[38;5;241m=\u001b[39m SemanticallyEqualShardings(\n\u001b[1;32m   2916\u001b[0m       in_shardings, global_in_avals)  \u001b[38;5;66;03m# type: ignore\u001b[39;00m\n",
      "File \u001b[0;32m~/git_supply/nndp/env/lib/python3.11/site-packages/jax/_src/interpreters/pxla.py:2718\u001b[0m, in \u001b[0;36m_cached_compilation\u001b[0;34m(computation, name, mesh, spmd_lowering, tuple_args, auto_spmd_lowering, allow_prop_to_inputs, allow_prop_to_outputs, host_callbacks, backend, da, pmap_nreps, compiler_options_keys, compiler_options_values)\u001b[0m\n\u001b[1;32m   2713\u001b[0m   \u001b[38;5;28;01mreturn\u001b[39;00m \u001b[38;5;28;01mNone\u001b[39;00m, compile_options\n\u001b[1;32m   2715\u001b[0m \u001b[38;5;28;01mwith\u001b[39;00m dispatch\u001b[38;5;241m.\u001b[39mlog_elapsed_time(\n\u001b[1;32m   2716\u001b[0m     \u001b[38;5;124m\"\u001b[39m\u001b[38;5;124mFinished XLA compilation of \u001b[39m\u001b[38;5;132;01m{fun_name}\u001b[39;00m\u001b[38;5;124m in \u001b[39m\u001b[38;5;132;01m{elapsed_time}\u001b[39;00m\u001b[38;5;124m sec\u001b[39m\u001b[38;5;124m\"\u001b[39m,\n\u001b[1;32m   2717\u001b[0m     fun_name\u001b[38;5;241m=\u001b[39mname, event\u001b[38;5;241m=\u001b[39mdispatch\u001b[38;5;241m.\u001b[39mBACKEND_COMPILE_EVENT):\n\u001b[0;32m-> 2718\u001b[0m   xla_executable \u001b[38;5;241m=\u001b[39m \u001b[43mcompiler\u001b[49m\u001b[38;5;241;43m.\u001b[39;49m\u001b[43mcompile_or_get_cached\u001b[49m\u001b[43m(\u001b[49m\n\u001b[1;32m   2719\u001b[0m \u001b[43m      \u001b[49m\u001b[43mbackend\u001b[49m\u001b[43m,\u001b[49m\u001b[43m \u001b[49m\u001b[43mcomputation\u001b[49m\u001b[43m,\u001b[49m\u001b[43m \u001b[49m\u001b[43mdev\u001b[49m\u001b[43m,\u001b[49m\u001b[43m \u001b[49m\u001b[43mcompile_options\u001b[49m\u001b[43m,\u001b[49m\u001b[43m \u001b[49m\u001b[43mhost_callbacks\u001b[49m\u001b[43m)\u001b[49m\n\u001b[1;32m   2720\u001b[0m \u001b[38;5;28;01mreturn\u001b[39;00m xla_executable, compile_options\n",
      "File \u001b[0;32m~/git_supply/nndp/env/lib/python3.11/site-packages/jax/_src/compiler.py:333\u001b[0m, in \u001b[0;36mcompile_or_get_cached\u001b[0;34m(backend, computation, devices, compile_options, host_callbacks)\u001b[0m\n\u001b[1;32m    323\u001b[0m   \u001b[38;5;28;01mreturn\u001b[39;00m _compile_and_write_autotune_config(\n\u001b[1;32m    324\u001b[0m       backend,\n\u001b[1;32m    325\u001b[0m       computation,\n\u001b[0;32m   (...)\u001b[0m\n\u001b[1;32m    330\u001b[0m       cache_key,\n\u001b[1;32m    331\u001b[0m   )\n\u001b[1;32m    332\u001b[0m \u001b[38;5;28;01melse\u001b[39;00m:\n\u001b[0;32m--> 333\u001b[0m   \u001b[38;5;28;01mreturn\u001b[39;00m \u001b[43m_compile_and_write_cache\u001b[49m\u001b[43m(\u001b[49m\n\u001b[1;32m    334\u001b[0m \u001b[43m      \u001b[49m\u001b[43mbackend\u001b[49m\u001b[43m,\u001b[49m\n\u001b[1;32m    335\u001b[0m \u001b[43m      \u001b[49m\u001b[43mcomputation\u001b[49m\u001b[43m,\u001b[49m\n\u001b[1;32m    336\u001b[0m \u001b[43m      \u001b[49m\u001b[43mcompile_options\u001b[49m\u001b[43m,\u001b[49m\n\u001b[1;32m    337\u001b[0m \u001b[43m      \u001b[49m\u001b[43mhost_callbacks\u001b[49m\u001b[43m,\u001b[49m\n\u001b[1;32m    338\u001b[0m \u001b[43m      \u001b[49m\u001b[43mmodule_name\u001b[49m\u001b[43m,\u001b[49m\n\u001b[1;32m    339\u001b[0m \u001b[43m      \u001b[49m\u001b[43mcache_key\u001b[49m\u001b[43m,\u001b[49m\n\u001b[1;32m    340\u001b[0m \u001b[43m  \u001b[49m\u001b[43m)\u001b[49m\n",
      "File \u001b[0;32m~/git_supply/nndp/env/lib/python3.11/site-packages/jax/_src/compiler.py:500\u001b[0m, in \u001b[0;36m_compile_and_write_cache\u001b[0;34m(backend, computation, compile_options, host_callbacks, module_name, cache_key)\u001b[0m\n\u001b[1;32m    491\u001b[0m \u001b[38;5;28;01mdef\u001b[39;00m \u001b[38;5;21m_compile_and_write_cache\u001b[39m(\n\u001b[1;32m    492\u001b[0m     backend: xc\u001b[38;5;241m.\u001b[39mClient,\n\u001b[1;32m    493\u001b[0m     computation: ir\u001b[38;5;241m.\u001b[39mModule,\n\u001b[0;32m   (...)\u001b[0m\n\u001b[1;32m    497\u001b[0m     cache_key: \u001b[38;5;28mstr\u001b[39m,\n\u001b[1;32m    498\u001b[0m ) \u001b[38;5;241m-\u001b[39m\u001b[38;5;241m>\u001b[39m xc\u001b[38;5;241m.\u001b[39mLoadedExecutable:\n\u001b[1;32m    499\u001b[0m   start_time \u001b[38;5;241m=\u001b[39m time\u001b[38;5;241m.\u001b[39mmonotonic()\n\u001b[0;32m--> 500\u001b[0m   executable \u001b[38;5;241m=\u001b[39m \u001b[43mbackend_compile\u001b[49m\u001b[43m(\u001b[49m\n\u001b[1;32m    501\u001b[0m \u001b[43m      \u001b[49m\u001b[43mbackend\u001b[49m\u001b[43m,\u001b[49m\u001b[43m \u001b[49m\u001b[43mcomputation\u001b[49m\u001b[43m,\u001b[49m\u001b[43m \u001b[49m\u001b[43mcompile_options\u001b[49m\u001b[43m,\u001b[49m\u001b[43m \u001b[49m\u001b[43mhost_callbacks\u001b[49m\n\u001b[1;32m    502\u001b[0m \u001b[43m  \u001b[49m\u001b[43m)\u001b[49m\n\u001b[1;32m    503\u001b[0m   compile_time \u001b[38;5;241m=\u001b[39m time\u001b[38;5;241m.\u001b[39mmonotonic() \u001b[38;5;241m-\u001b[39m start_time\n\u001b[1;32m    504\u001b[0m   _cache_write(\n\u001b[1;32m    505\u001b[0m       cache_key, compile_time, module_name, backend, executable, host_callbacks\n\u001b[1;32m    506\u001b[0m   )\n",
      "File \u001b[0;32m~/git_supply/nndp/env/lib/python3.11/site-packages/jax/_src/profiler.py:335\u001b[0m, in \u001b[0;36mannotate_function.<locals>.wrapper\u001b[0;34m(*args, **kwargs)\u001b[0m\n\u001b[1;32m    332\u001b[0m \u001b[38;5;129m@wraps\u001b[39m(func)\n\u001b[1;32m    333\u001b[0m \u001b[38;5;28;01mdef\u001b[39;00m \u001b[38;5;21mwrapper\u001b[39m(\u001b[38;5;241m*\u001b[39margs, \u001b[38;5;241m*\u001b[39m\u001b[38;5;241m*\u001b[39mkwargs):\n\u001b[1;32m    334\u001b[0m   \u001b[38;5;28;01mwith\u001b[39;00m TraceAnnotation(name, \u001b[38;5;241m*\u001b[39m\u001b[38;5;241m*\u001b[39mdecorator_kwargs):\n\u001b[0;32m--> 335\u001b[0m     \u001b[38;5;28;01mreturn\u001b[39;00m \u001b[43mfunc\u001b[49m\u001b[43m(\u001b[49m\u001b[38;5;241;43m*\u001b[39;49m\u001b[43margs\u001b[49m\u001b[43m,\u001b[49m\u001b[43m \u001b[49m\u001b[38;5;241;43m*\u001b[39;49m\u001b[38;5;241;43m*\u001b[39;49m\u001b[43mkwargs\u001b[49m\u001b[43m)\u001b[49m\n\u001b[1;32m    336\u001b[0m   \u001b[38;5;28;01mreturn\u001b[39;00m wrapper\n",
      "File \u001b[0;32m~/git_supply/nndp/env/lib/python3.11/site-packages/jax/_src/compiler.py:238\u001b[0m, in \u001b[0;36mbackend_compile\u001b[0;34m(backend, module, options, host_callbacks)\u001b[0m\n\u001b[1;32m    233\u001b[0m   \u001b[38;5;28;01mreturn\u001b[39;00m backend\u001b[38;5;241m.\u001b[39mcompile(built_c, compile_options\u001b[38;5;241m=\u001b[39moptions,\n\u001b[1;32m    234\u001b[0m                          host_callbacks\u001b[38;5;241m=\u001b[39mhost_callbacks)\n\u001b[1;32m    235\u001b[0m \u001b[38;5;66;03m# Some backends don't have `host_callbacks` option yet\u001b[39;00m\n\u001b[1;32m    236\u001b[0m \u001b[38;5;66;03m# TODO(sharadmv): remove this fallback when all backends allow `compile`\u001b[39;00m\n\u001b[1;32m    237\u001b[0m \u001b[38;5;66;03m# to take in `host_callbacks`\u001b[39;00m\n\u001b[0;32m--> 238\u001b[0m \u001b[38;5;28;01mreturn\u001b[39;00m \u001b[43mbackend\u001b[49m\u001b[38;5;241;43m.\u001b[39;49m\u001b[43mcompile\u001b[49m\u001b[43m(\u001b[49m\u001b[43mbuilt_c\u001b[49m\u001b[43m,\u001b[49m\u001b[43m \u001b[49m\u001b[43mcompile_options\u001b[49m\u001b[38;5;241;43m=\u001b[39;49m\u001b[43moptions\u001b[49m\u001b[43m)\u001b[49m\n",
      "\u001b[0;31mKeyboardInterrupt\u001b[0m: "
     ]
    }
   ],
   "source": [
    "key, subkey = jax.random.split(key)\n",
    "\n",
    "params,result = nndp.core.train(key = subkey,\n",
    "               params = params,\n",
    "               nn = nn,\n",
    "               policy = policy,\n",
    "               u = u,\n",
    "               m = m,\n",
    "               F = F,\n",
    "               T = T,\n",
    "               N_simul = 100,\n",
    "               batch_size = 10,\n",
    "               epochs = 200,\n",
    "               optimizer = optax.adam(1e-4)\n",
    "               )"
   ]
  },
  {
   "cell_type": "code",
   "execution_count": null,
   "metadata": {},
   "outputs": [
    {
     "data": {
      "text/plain": [
       "<Axes: title={'center': 'Convergence of Objective Function'}, xlabel='Epoch', ylabel='Objective Function'>"
      ]
     },
     "execution_count": 5,
     "metadata": {},
     "output_type": "execute_result"
    },
    {
     "data": {
      "image/png": "[encoded data removed]",
      "text/plain": [
       "<Figure size 640x480 with 1 Axes>"
      ]
     },
     "metadata": {},
     "output_type": "display_data"
    }
   ],
   "source": [
    "result.plot_convergence()"
   ]
  },
  {
   "cell_type": "code",
   "execution_count": null,
   "metadata": {},
   "outputs": [
    {
     "data": {
      "image/png": "[encoded data removed]",
      "text/plain": [
       "<Figure size 640x480 with 1 Axes>"
      ]
     },
     "metadata": {},
     "output_type": "display_data"
    }
   ],
   "source": [
    "z = jnp.linspace(-0.4,0.4)\n",
    "k = 5\n",
    "t = 0\n",
    "state = jnp.column_stack([jnp.ones_like(z)*t, z, jnp.ones_like(z)*k])\n",
    "fig, ax = plt.subplots()\n",
    "ax.plot(z, k_star(z), label='optimal')\n",
    "ax.plot(z, policy(state, params, nn), label='nndp')\n",
    "ax.set(xlabel='z',ylabel='policy', title='$k_{t+1}(0,z,1)$')\n",
    "ax.legend()\n",
    "fig.show()"
   ]
  },
  {
   "cell_type": "code",
   "execution_count": null,
   "metadata": {},
   "outputs": [
    {
     "ename": "NameError",
     "evalue": "name 'k' is not defined",
     "output_type": "error",
     "traceback": [
      "\u001b[0;31m---------------------------------------------------------------------------\u001b[0m",
      "\u001b[0;31mNameError\u001b[0m                                 Traceback (most recent call last)",
      "Cell \u001b[0;32mIn[5], line 1\u001b[0m\n\u001b[0;32m----> 1\u001b[0m jnp\u001b[38;5;241m.\u001b[39mexp(\u001b[38;5;241m0.4\u001b[39m)\u001b[38;5;241m*\u001b[39m\u001b[43mk\u001b[49m\u001b[38;5;241m*\u001b[39m\u001b[38;5;241m*\u001b[39m(\u001b[38;5;241m1\u001b[39m\u001b[38;5;241m/\u001b[39m\u001b[38;5;241m3\u001b[39m)\u001b[38;5;241m-\u001b[39mk\n",
      "\u001b[0;31mNameError\u001b[0m: name 'k' is not defined"
     ]
    }
   ],
   "source": [
    "jnp.exp(0.4)*k**(1/3)-k"
   ]
  },
  {
   "cell_type": "code",
   "execution_count": null,
   "metadata": {},
   "outputs": [
    {
     "ename": "NameError",
     "evalue": "name 'a' is not defined",
     "output_type": "error",
     "traceback": [
      "\u001b[0;31m---------------------------------------------------------------------------\u001b[0m",
      "\u001b[0;31mNameError\u001b[0m                                 Traceback (most recent call last)",
      "Cell \u001b[0;32mIn[8], line 1\u001b[0m\n\u001b[0;32m----> 1\u001b[0m \u001b[43ma\u001b[49m(\u001b[38;5;241m0.1\u001b[39m), a(\u001b[38;5;241m10\u001b[39m)\n",
      "\u001b[0;31mNameError\u001b[0m: name 'a' is not defined"
     ]
    }
   ],
   "source": [
    "a(0.1), a(10)"
   ]
  },
  {
   "cell_type": "code",
   "execution_count": null,
   "metadata": {},
   "outputs": [
    {
     "data": {
      "text/plain": [
       "Array([[1.3395097]], dtype=float32)"
      ]
     },
     "execution_count": 11,
     "metadata": {},
     "output_type": "execute_result"
    }
   ],
   "source": [
    "policy(jnp.array([[0,0.4,1]]), params, nn)"
   ]
  },
  {
   "cell_type": "code",
   "execution_count": null,
   "metadata": {},
   "outputs": [
    {
     "data": {
      "text/plain": [
       " message: Solution found.\n",
       " success: True\n",
       "  status: 0\n",
       "     fun: -0.7013339\n",
       "       x: 0.3508536\n",
       "     nit: 21\n",
       "    nfev: 21"
      ]
     },
     "execution_count": 12,
     "metadata": {},
     "output_type": "execute_result"
    },
    {
     "data": {
      "image/png": "[encoded data removed]",
      "text/plain": [
       "<Figure size 640x480 with 1 Axes>"
      ]
     },
     "metadata": {},
     "output_type": "display_data"
    }
   ],
   "source": [
    "from scipy.optimize import minimize_scalar\n",
    "a = lambda k: -(jnp.exp(0.4)*k**(1/3)-k)\n",
    "k = jnp.linspace(0.1,2)\n",
    "plt.plot(k, a(k))\n",
    "minimize_scalar(a, bracket=[0.1,10], bounds = [0.1,3])"
   ]
  },
  {
   "cell_type": "code",
   "execution_count": null,
   "metadata": {},
   "outputs": [
    {
     "data": {
      "text/plain": [
       "Array(1.4918247, dtype=float32, weak_type=True)"
      ]
     },
     "execution_count": 13,
     "metadata": {},
     "output_type": "execute_result"
    }
   ],
   "source": [
    "jnp.exp(0.4)"
   ]
  },
  {
   "cell_type": "code",
   "execution_count": null,
   "metadata": {},
   "outputs": [
    {
     "name": "stdout",
     "output_type": "stream",
     "text": [
      "[3382499631 3878610767]\n",
      "[Array([4104543539, 3483300570], dtype=uint32)]\n"
     ]
    },
    {
     "data": {
      "text/plain": [
       "Array([[1.9]], dtype=float32)"
      ]
     },
     "execution_count": 7,
     "metadata": {},
     "output_type": "execute_result"
    }
   ],
   "source": [
    "nndp.core.evaluate_policy(key,\n",
    "                          policy,\n",
    "                          params,\n",
    "                          nn,\n",
    "                          u,\n",
    "                          m,\n",
    "                          s0=jnp.array([[0,0,1.]]),\n",
    "                          T=T,\n",
    "                          N_simul=1)"
   ]
  },
  {
   "cell_type": "code",
   "execution_count": null,
   "metadata": {},
   "outputs": [
    {
     "data": {
      "text/plain": [
       "0.9245562130177513"
      ]
     },
     "execution_count": 15,
     "metadata": {},
     "output_type": "execute_result"
    }
   ],
   "source": [
    "(1/(1+0.04))**2"
   ]
  },
  {
   "cell_type": "code",
   "execution_count": null,
   "metadata": {},
   "outputs": [
    {
     "data": {
      "text/plain": [
       "Array([-2.], dtype=float32)"
      ]
     },
     "execution_count": 9,
     "metadata": {},
     "output_type": "execute_result"
    }
   ],
   "source": [
    "u(jnp.array([[0,1,0]]), jnp.array([2]))"
   ]
  },
  {
   "cell_type": "code",
   "execution_count": null,
   "metadata": {},
   "outputs": [
    {
     "data": {
      "text/plain": [
       "Array([[0.47282645]], dtype=float32)"
      ]
     },
     "execution_count": 10,
     "metadata": {},
     "output_type": "execute_result"
    }
   ],
   "source": [
    "policy(jnp.array([[0,1,0]]), params, nn)"
   ]
  },
  {
   "cell_type": "code",
   "execution_count": null,
   "metadata": {},
   "outputs": [
    {
     "data": {
      "text/plain": [
       "Array([[2.067164]], dtype=float32)"
      ]
     },
     "execution_count": 11,
     "metadata": {},
     "output_type": "execute_result"
    }
   ],
   "source": [
    "policy(jnp.array([30,3,3]), params, nn)"
   ]
  },
  {
   "cell_type": "code",
   "execution_count": null,
   "metadata": {},
   "outputs": [
    {
     "data": {
      "text/plain": [
       "Array(2.6182818, dtype=float32)"
      ]
     },
     "execution_count": 12,
     "metadata": {},
     "output_type": "execute_result"
    }
   ],
   "source": [
    "u(jnp.array([0,1,1]),jnp.array([1]))"
   ]
  },
  {
   "cell_type": "code",
   "execution_count": null,
   "metadata": {},
   "outputs": [
    {
     "data": {
      "text/plain": [
       "Array([[1. , 1. , 1.5]], dtype=float32)"
      ]
     },
     "execution_count": 7,
     "metadata": {},
     "output_type": "execute_result"
    }
   ],
   "source": [
    "key = jax.random.PRNGKey(0)\n",
    "m(key, jnp.array([[0,1,1]]),jnp.array([[1.5]]))"
   ]
  },
  {
   "cell_type": "code",
   "execution_count": null,
   "metadata": {},
   "outputs": [
    {
     "data": {
      "text/plain": [
       "Array([[ 0.        ,  0.26210177, 12.049849  ]], dtype=float32)"
      ]
     },
     "execution_count": 8,
     "metadata": {},
     "output_type": "execute_result"
    }
   ],
   "source": [
    "F(key= jax.random.PRNGKey(0) , N=1)"
   ]
  },
  {
   "cell_type": "code",
   "execution_count": null,
   "metadata": {},
   "outputs": [],
   "source": [
    "key = jax.random.PRNGKey(0)\n",
    "params, nn = nndp.initialize_deep_nn(key,\n",
    "                                n_states = 3,\n",
    "                                n_actions = 1,\n",
    "                                nodes_per_layer = 256,\n",
    "                                hidden_layers = 3,\n",
    "                                hidden_activation = jax.nn.tanh,\n",
    "                                output_activation = [jax.nn.relu])"
   ]
  },
  {
   "cell_type": "code",
   "execution_count": null,
   "metadata": {},
   "outputs": [
    {
     "data": {
      "text/plain": [
       "Array([[0.13153245]], dtype=float32)"
      ]
     },
     "execution_count": 9,
     "metadata": {},
     "output_type": "execute_result"
    }
   ],
   "source": [
    "policy(jnp.array([[0,2,1]]), params, nn)"
   ]
  },
  {
   "cell_type": "code",
   "execution_count": 5,
   "metadata": {},
   "outputs": [
    {
     "name": "stdout",
     "output_type": "stream",
     "text": [
      "[4146024105  967050713]\n",
      "[Array([2718843009, 1272950319], dtype=uint32)]\n"
     ]
    },
    {
     "data": {
      "text/plain": [
       "Array([[3.6182818]], dtype=float32)"
      ]
     },
     "execution_count": 5,
     "metadata": {},
     "output_type": "execute_result"
    }
   ],
   "source": [
    "from nndp import evaluate_policy\n",
    "\n",
    "key = jax.random.PRNGKey(0)\n",
    "\n",
    "evaluate_policy(key=key,\n",
    "                policy=policy,\n",
    "                params=params,\n",
    "                nn=nn,\n",
    "                u=u,\n",
    "                m=m,\n",
    "                s0=jnp.array([[0,1.,1.]]),\n",
    "                T=T,\n",
    "                N_simul=1)\n"
   ]
  },
  {
   "cell_type": "code",
   "execution_count": null,
   "metadata": {},
   "outputs": [
    {
     "data": {
      "text/plain": [
       "{'linear': {'w': Array([[ 4.61147092e-02, -9.34243947e-02, -6.79763556e-02,\n",
       "           3.00944388e-01, -7.36520410e-01, -2.34205842e-01,\n",
       "          -1.63559943e-01,  7.27895945e-02, -6.62947670e-02,\n",
       "          -1.32491663e-01,  2.26811424e-01,  5.39979696e-01,\n",
       "          -4.49149497e-02, -3.41979384e-01, -1.66633159e-01,\n",
       "          -5.99614859e-01, -7.33612701e-02,  5.73329568e-01,\n",
       "          -1.65594310e-01, -5.45871615e-01, -3.31876464e-02,\n",
       "           6.86597347e-01, -9.93490696e-01,  4.82242107e-01,\n",
       "           2.16071814e-01, -2.12265506e-01, -2.32248321e-01,\n",
       "          -1.21517673e-01,  2.89913714e-01,  8.08311880e-01,\n",
       "          -5.03322899e-01,  6.22503042e-01, -3.96303862e-01,\n",
       "          -9.12250340e-01, -9.91572142e-02, -9.38085854e-01,\n",
       "           1.30373657e-01,  5.13039351e-01,  2.21026614e-02,\n",
       "          -1.15089439e-01,  6.91006422e-01,  4.76047456e-01,\n",
       "           1.11466408e+00, -1.01811051e+00,  7.16521963e-02,\n",
       "           1.80341557e-01,  4.67382133e-01, -5.96623123e-01,\n",
       "           4.94119465e-01,  1.82078660e-01, -8.32735658e-01,\n",
       "          -3.20750058e-01, -4.94548768e-01,  5.15599370e-01,\n",
       "           9.18788314e-01, -8.39502096e-01, -7.70902693e-01,\n",
       "           3.21936399e-01, -2.06167519e-01, -5.30540850e-03,\n",
       "          -3.91358674e-01,  3.72233510e-01, -9.86350179e-02,\n",
       "           9.71801355e-02,  4.51660544e-01, -3.71952727e-02,\n",
       "           9.67424452e-01, -4.99552116e-02, -5.57120204e-01,\n",
       "          -3.74839664e-01, -1.09722984e+00,  9.45246741e-02,\n",
       "          -7.25643754e-01,  4.61527228e-01, -5.37162662e-01,\n",
       "          -5.48869133e-01, -6.35205925e-01, -3.27186853e-01,\n",
       "          -7.10329711e-01, -2.17122704e-01, -4.51342836e-02,\n",
       "          -1.07337701e+00,  8.71133626e-01,  1.94932714e-01,\n",
       "          -2.54027277e-01, -1.88386127e-01,  4.72006738e-01,\n",
       "           4.59128201e-01,  4.20104563e-01,  7.99490154e-01,\n",
       "           6.46967530e-01,  5.85813820e-01, -7.36896634e-01,\n",
       "           5.52762330e-01,  2.12061092e-01, -1.00823104e+00,\n",
       "           6.98444068e-01,  1.15609810e-01,  2.12329298e-01,\n",
       "          -7.32571959e-01,  9.87750769e-01, -3.24943721e-01,\n",
       "           4.33335423e-01,  1.69669315e-01, -1.22291930e-01,\n",
       "          -1.14823550e-01, -2.79140770e-02,  4.71728556e-02,\n",
       "           9.22339596e-03,  1.66144639e-01,  8.35246369e-02,\n",
       "          -3.61500561e-01,  3.73187780e-01, -2.90509135e-01,\n",
       "          -2.55451858e-01, -4.09867823e-01,  6.55599058e-01,\n",
       "          -6.84396744e-01, -7.61565387e-01, -3.33058357e-01,\n",
       "           2.89741784e-01,  1.18307285e-01, -1.10439673e-01,\n",
       "          -7.08921194e-01,  5.87538779e-01,  3.64479899e-01,\n",
       "          -9.93151486e-01, -4.97803986e-01, -5.72333217e-01,\n",
       "          -3.24565053e-01, -2.58367002e-01, -9.08599317e-01,\n",
       "          -2.91695774e-01, -1.01632670e-01, -2.34910280e-01,\n",
       "          -7.25188017e-01,  5.99337518e-01,  1.17699429e-01,\n",
       "           1.10425614e-01,  5.34201682e-01,  4.61105518e-02,\n",
       "          -2.89353013e-01, -4.40931469e-01, -9.14151549e-01,\n",
       "          -6.04884446e-01,  2.87572473e-01,  5.77165629e-04,\n",
       "           2.89485574e-01, -9.10776434e-04, -1.83317363e-01,\n",
       "          -8.69645774e-01, -2.95518011e-01, -2.59531081e-01,\n",
       "          -2.85267383e-02, -5.06013453e-01,  6.07915103e-01,\n",
       "          -3.36716264e-01, -1.07886894e-02, -5.44959784e-01,\n",
       "          -1.14855874e+00,  4.78344202e-01, -8.65844935e-02,\n",
       "           6.74366295e-01,  5.09989262e-02,  2.36080945e-01,\n",
       "           4.54104275e-01,  6.82019353e-01,  8.42308462e-01,\n",
       "          -8.70991498e-03,  8.89872313e-01,  2.24965662e-01,\n",
       "           3.17589372e-01, -7.46994078e-01,  3.03935438e-01,\n",
       "           1.12362158e+00, -1.32913794e-02, -1.02712917e+00,\n",
       "          -7.85692811e-01,  6.39853835e-01, -3.76485050e-01,\n",
       "           7.48034596e-01, -1.43723801e-01,  5.69363162e-02,\n",
       "          -3.26877683e-01, -7.85229683e-01,  2.26910353e-01,\n",
       "          -2.54574329e-01, -6.93156183e-01, -7.90744305e-01,\n",
       "           5.86654305e-01,  1.60092175e-01, -4.10516202e-01,\n",
       "           4.95971322e-01, -1.03921533e+00,  6.36201799e-01,\n",
       "          -2.99476683e-01,  1.77853733e-01, -2.20839560e-01,\n",
       "           3.12133273e-03,  9.23390746e-01,  4.14943784e-01,\n",
       "           1.03047296e-01, -3.86343628e-01,  8.98819864e-02,\n",
       "          -3.48195359e-02, -2.45772317e-01,  1.27707422e-01,\n",
       "          -8.02437663e-01,  3.52465898e-01,  3.29551041e-01,\n",
       "           6.08412743e-01, -4.76716727e-01, -7.35551834e-01,\n",
       "          -8.96310210e-01,  6.50530696e-01,  6.76619411e-01,\n",
       "          -1.78690702e-01,  5.64807296e-01, -1.09723794e+00,\n",
       "           7.09028006e-01, -9.84246671e-01, -1.04413402e+00,\n",
       "           4.80957121e-01,  5.37860572e-01, -8.25788438e-01,\n",
       "           7.50600576e-01, -4.84530628e-02, -4.12587613e-01,\n",
       "           9.68245447e-01,  1.08207810e+00,  2.88342834e-01,\n",
       "          -1.03318167e+00, -8.15615296e-01,  1.98025316e-01,\n",
       "          -5.26157856e-01,  4.74042296e-01,  6.62287772e-02,\n",
       "           2.44128913e-01, -3.03779930e-01, -6.24719679e-01,\n",
       "           1.33820832e-01, -5.41436255e-01, -3.94981056e-01,\n",
       "           8.61872435e-01, -4.62881148e-01, -1.38891727e-01,\n",
       "          -2.66277134e-01,  7.18621969e-01, -1.46922961e-01,\n",
       "          -1.07956815e+00,  3.94791484e-01,  4.81071651e-01,\n",
       "          -4.65557456e-01, -4.38205957e-01,  9.57046092e-01,\n",
       "          -1.33433998e-01],\n",
       "         [-6.94865406e-01,  5.09325445e-01,  3.40451002e-01,\n",
       "          -4.13307488e-01, -2.54107803e-01,  4.98329066e-02,\n",
       "           1.32756427e-01, -3.77653331e-01,  2.19906140e-02,\n",
       "           2.61003584e-01,  2.54154086e-01, -2.96879947e-01,\n",
       "          -2.27716044e-01,  2.22198367e-01,  4.92094010e-01,\n",
       "          -6.48080409e-01,  3.08923006e-01, -2.83550590e-01,\n",
       "          -4.16191161e-01, -4.52813566e-01,  1.44158795e-01,\n",
       "           8.60154629e-01, -8.99165273e-01, -4.39242870e-01,\n",
       "           3.20310503e-01,  2.43772402e-01, -7.57221401e-01,\n",
       "          -4.89690334e-01, -1.12155080e+00,  2.51108378e-01,\n",
       "          -6.25087082e-01, -8.09898153e-02,  1.57885812e-02,\n",
       "          -5.44849038e-01, -2.71276683e-01,  4.70848739e-01,\n",
       "           2.25861266e-01, -3.20784710e-02, -3.93413514e-01,\n",
       "          -1.24183781e-01, -5.00665307e-01,  8.49026263e-01,\n",
       "          -3.30568641e-01, -4.42626476e-01, -3.97784919e-01,\n",
       "           8.00398767e-01,  6.09875083e-01, -1.99724928e-01,\n",
       "           5.84710777e-01, -5.11331320e-01, -2.04186335e-01,\n",
       "          -9.75479424e-01,  2.70463467e-01, -5.52633941e-01,\n",
       "           2.28303507e-01,  6.89908937e-02, -4.34053391e-01,\n",
       "          -3.60626191e-01,  8.31294298e-01,  6.91414118e-01,\n",
       "          -8.62351209e-02,  2.18294024e-01, -1.12036014e+00,\n",
       "           1.76586136e-01, -3.50733399e-01, -1.92909405e-01,\n",
       "           1.52569190e-01, -5.69882274e-01, -1.06147122e+00,\n",
       "          -6.79111958e-01,  1.16170570e-01,  2.71031260e-01,\n",
       "           1.79522142e-01, -8.85892808e-01,  7.65130222e-01,\n",
       "           8.73156905e-01,  2.87227511e-01,  7.30511397e-02,\n",
       "           1.26605898e-01,  5.72258294e-01, -4.48721588e-01,\n",
       "          -4.29211073e-02,  3.61912936e-01,  7.52230408e-04,\n",
       "           5.61411738e-01, -2.00790301e-01,  3.50456387e-01,\n",
       "          -4.37412620e-01, -6.58696353e-01, -1.16745114e-01,\n",
       "           2.27663696e-01,  1.45769209e-01,  1.06753719e+00,\n",
       "           2.48748198e-01, -7.82483876e-01, -2.40359142e-01,\n",
       "          -4.83274519e-01,  4.74527627e-02,  1.14144534e-01,\n",
       "          -1.86310187e-01, -8.16730857e-01,  1.08521670e-01,\n",
       "           5.09645455e-02, -2.13489592e-01,  8.67703080e-01,\n",
       "           1.08008039e+00, -9.66635868e-02, -8.27793002e-01,\n",
       "           1.74591184e-01,  5.53277969e-01, -3.37965965e-01,\n",
       "          -6.16458237e-01,  5.05686402e-02,  3.21583658e-01,\n",
       "           1.05013162e-01,  4.54115987e-01, -1.87148422e-01,\n",
       "           3.52436453e-01, -4.38663810e-01, -2.89556533e-01,\n",
       "          -7.82029927e-01, -1.50999635e-01, -6.20208262e-03,\n",
       "           2.28676662e-01, -6.59299374e-01,  1.81433722e-01,\n",
       "           7.07263589e-01,  3.67517978e-01, -2.18589634e-01,\n",
       "          -4.57106143e-01,  1.52095556e-01, -3.35379511e-01,\n",
       "           1.59597322e-01, -9.28253829e-01, -3.86075497e-01,\n",
       "           1.54548898e-01,  2.46457100e-01, -2.83698857e-01,\n",
       "           5.95449328e-01,  3.86320561e-01, -1.86385348e-01,\n",
       "          -3.75395656e-01,  1.01501787e+00, -2.62618184e-01,\n",
       "          -2.86391765e-01,  1.11626461e-01, -5.39527237e-01,\n",
       "           3.26808125e-01, -4.15421307e-01,  1.81703791e-01,\n",
       "          -5.25881767e-01,  6.56967759e-01, -1.86175259e-03,\n",
       "           5.83791971e-01,  1.69726864e-01,  2.64047027e-01,\n",
       "          -9.92373705e-01,  3.97826433e-01, -2.78644353e-01,\n",
       "           3.64351332e-01,  9.65850707e-03, -1.47287980e-01,\n",
       "          -4.26529646e-02, -6.38870075e-02, -6.24486983e-01,\n",
       "           1.06240749e-01, -9.48940933e-01,  6.80037215e-02,\n",
       "          -2.01366663e-01, -3.76489967e-01,  2.56620497e-01,\n",
       "           3.25982183e-01, -4.31628704e-01,  4.68132228e-01,\n",
       "           7.37719417e-01,  5.11588812e-01, -1.10527933e+00,\n",
       "           5.17255723e-01,  4.30729449e-01, -1.03058517e-01,\n",
       "           1.89985365e-01,  2.85506040e-01,  9.25135851e-01,\n",
       "           5.43319285e-01, -8.26843202e-01, -5.19284606e-01,\n",
       "           6.77541971e-01, -1.12551570e-01,  9.88722742e-02,\n",
       "          -3.73839140e-01,  4.18031991e-01,  4.00156260e-01,\n",
       "          -1.42944112e-01,  4.87130135e-01,  5.40806241e-02,\n",
       "          -1.88538611e-01,  3.96428496e-01,  2.92525291e-01,\n",
       "          -8.11551690e-01, -1.69591933e-01, -2.58210838e-01,\n",
       "          -3.86534572e-01,  3.83467793e-01, -3.90726984e-01,\n",
       "           4.98315066e-01, -4.04485315e-01, -1.15271103e+00,\n",
       "          -1.89290181e-01,  6.25615001e-01,  4.35319871e-01,\n",
       "          -5.69197536e-01, -7.82965660e-01,  3.30819666e-01,\n",
       "          -8.00682902e-01,  2.24286437e-01, -6.99430227e-01,\n",
       "           4.07687947e-02,  2.06554398e-01, -3.23839188e-01,\n",
       "          -2.93712705e-01, -6.44054711e-01, -4.12701443e-03,\n",
       "           1.73169464e-01,  4.99527127e-01, -7.13123560e-01,\n",
       "           5.36852069e-02,  7.40357935e-01, -5.02723211e-04,\n",
       "          -7.63839126e-01, -6.81353867e-01,  5.32990813e-01,\n",
       "          -7.06685007e-01,  4.81326282e-01,  7.35854089e-01,\n",
       "          -8.88225734e-01, -5.38489461e-01,  1.43913805e-01,\n",
       "           6.06338441e-01,  2.22572401e-01,  6.26533747e-01,\n",
       "           1.54594585e-01,  8.09666812e-01, -3.28419834e-01,\n",
       "           8.94793198e-02, -1.52335301e-01,  5.51880956e-01,\n",
       "           3.28843683e-01,  6.13244712e-01,  2.06481963e-01,\n",
       "           2.94827431e-01,  1.69991046e-01,  3.36562306e-01,\n",
       "           2.81043768e-01,  4.05760854e-01,  4.06329185e-01,\n",
       "           3.83581340e-01],\n",
       "         [-1.67795748e-01,  5.63295279e-03, -8.27459335e-01,\n",
       "          -3.95207465e-01,  8.69201541e-01,  3.41955632e-01,\n",
       "          -6.34198248e-01, -7.42568612e-01, -1.65091798e-01,\n",
       "           7.00317174e-02,  6.94674850e-01, -2.28222862e-01,\n",
       "          -7.59532511e-01, -6.90603793e-01, -1.96830615e-01,\n",
       "          -2.34556481e-01,  4.50694442e-01, -2.60908782e-01,\n",
       "          -1.91068307e-01,  9.33269382e-01,  4.18422855e-02,\n",
       "          -4.49377567e-01,  5.48768818e-01,  5.36212623e-01,\n",
       "          -9.14849520e-01, -2.06327409e-01,  8.35571513e-02,\n",
       "           3.27143490e-01,  9.30759251e-01, -4.34882402e-01,\n",
       "           1.02372968e+00, -2.45320443e-02,  3.80736172e-01,\n",
       "           9.47625637e-02, -3.61891121e-01, -5.87644696e-01,\n",
       "          -6.66081190e-01,  1.40240148e-01, -1.82051986e-01,\n",
       "           8.67715597e-01,  1.10110331e+00,  2.59391785e-01,\n",
       "           4.45499681e-02,  8.49601448e-01, -7.48768270e-01,\n",
       "          -4.66603637e-01, -1.15148592e+00,  1.95243850e-01,\n",
       "          -4.55604106e-01,  3.52869809e-01, -3.49853307e-01,\n",
       "           1.81230009e-01,  3.13106686e-01,  1.73705056e-01,\n",
       "          -2.87155896e-01, -9.18313622e-01,  7.54455984e-01,\n",
       "           9.62771595e-01,  2.41298646e-01,  2.62863338e-01,\n",
       "          -3.69268030e-01,  1.46519333e-01,  1.61227852e-01,\n",
       "           1.44215032e-01, -2.67407119e-01, -6.62314832e-01,\n",
       "          -4.34287578e-01, -7.52787054e-01,  6.71910644e-01,\n",
       "          -2.68809460e-02,  3.06738913e-01, -2.11287796e-01,\n",
       "           3.49004716e-01, -2.31039330e-01,  6.50724888e-01,\n",
       "          -4.43168133e-01, -4.78315890e-01,  3.96445960e-01,\n",
       "           1.57027960e-01,  5.20203374e-02,  5.93185797e-03,\n",
       "           4.56392974e-01,  8.52048874e-01,  2.53055245e-01,\n",
       "          -6.55629575e-01,  6.39017597e-02,  2.53961772e-01,\n",
       "          -6.79699600e-01,  7.54730821e-01, -1.19739547e-01,\n",
       "           5.52974194e-02, -2.48715118e-01,  8.52111638e-01,\n",
       "           1.09858572e+00,  8.35682571e-01,  3.33981454e-01,\n",
       "           9.54041779e-02, -7.32714176e-01, -2.19113126e-01,\n",
       "          -1.25850305e-01,  2.10670963e-01, -2.76388615e-01,\n",
       "           8.24222445e-01, -1.26045913e-01, -7.38317847e-01,\n",
       "          -5.79100400e-02, -2.85468072e-01, -1.26771033e-01,\n",
       "          -1.06690013e+00,  3.15203965e-01,  2.39547137e-02,\n",
       "           3.53856474e-01,  5.33981383e-01, -8.02428663e-01,\n",
       "          -9.76584136e-01,  1.99774072e-01,  9.61039841e-01,\n",
       "           4.75030690e-01,  3.79848152e-01,  2.23606616e-01,\n",
       "           2.88229287e-01,  9.91400480e-02, -8.96564186e-01,\n",
       "          -4.21664625e-01,  1.12886593e-01, -1.85668856e-01,\n",
       "          -1.08339019e-01,  4.61972296e-01,  2.98132986e-01,\n",
       "           3.19791622e-02,  2.26997107e-01, -6.05975688e-01,\n",
       "           1.72754541e-01,  5.46299368e-02, -9.52144027e-01,\n",
       "           3.54984969e-01, -4.30858642e-01, -4.82742250e-01,\n",
       "          -2.82619428e-02, -1.11666739e-01, -9.96127605e-01,\n",
       "           8.79471838e-01,  8.67702007e-01, -6.43358171e-01,\n",
       "           7.23696828e-01,  1.86984614e-01, -3.73364300e-01,\n",
       "          -1.99802890e-02, -6.87885225e-01, -1.16159789e-01,\n",
       "           3.17921400e-01,  7.70466447e-01, -7.07787633e-01,\n",
       "          -1.21027328e-01, -6.07875586e-01, -9.13448095e-01,\n",
       "          -5.24532616e-01, -3.46769571e-01, -8.44377577e-01,\n",
       "           1.78783447e-01, -6.62152708e-01,  6.93686485e-01,\n",
       "          -4.08434182e-01,  6.45752907e-01, -3.30683678e-01,\n",
       "           1.53718024e-01,  4.73904580e-01,  1.97570607e-01,\n",
       "           7.81492949e-01, -8.22065711e-01,  1.37875438e-01,\n",
       "           9.30333614e-01,  6.72029734e-01, -5.50966859e-01,\n",
       "           1.03896022e+00,  7.01817989e-01, -4.50376514e-03,\n",
       "           6.63698196e-01, -5.68849862e-01, -1.15309429e+00,\n",
       "           4.18566108e-01,  1.12817156e+00,  5.11495888e-01,\n",
       "          -1.45007879e-01, -3.60369414e-01, -5.22020876e-01,\n",
       "           3.76517862e-01, -6.65151477e-01, -9.02001441e-01,\n",
       "          -4.27529126e-01,  3.89048457e-01, -6.69789314e-01,\n",
       "          -4.97659564e-01,  6.99462056e-01,  4.29720640e-01,\n",
       "          -1.76941216e-01,  7.35539913e-01,  1.83965683e-01,\n",
       "           9.61421609e-01,  6.16544671e-02, -4.12525505e-01,\n",
       "           3.25925022e-01, -6.52543068e-01,  8.25661719e-02,\n",
       "          -4.29360539e-01,  5.19691646e-01,  2.67401636e-01,\n",
       "          -1.55333281e-01,  1.41889289e-01,  4.08207536e-01,\n",
       "           3.36972952e-01,  7.21234381e-01,  3.22248548e-01,\n",
       "          -3.23062658e-01, -7.03567326e-01,  2.54715115e-01,\n",
       "          -9.58926678e-01,  4.95480567e-01,  3.42103064e-01,\n",
       "          -1.13530612e+00,  5.15902519e-01,  2.41153583e-01,\n",
       "          -4.21107449e-02,  2.28107870e-02,  9.67751199e-04,\n",
       "           9.31078553e-01, -9.29509282e-01, -2.03482822e-01,\n",
       "           6.72159135e-01,  2.74805427e-01, -6.32566512e-01,\n",
       "          -7.86922053e-02,  9.29381102e-02,  6.08937800e-01,\n",
       "           7.50081360e-01,  4.94127542e-01, -9.05591607e-01,\n",
       "          -7.38864958e-01, -6.61000788e-01, -3.28252763e-01,\n",
       "          -4.26301688e-01,  6.40434980e-01,  1.42463952e-01,\n",
       "           3.09228331e-01,  2.50065804e-01,  5.24612963e-01,\n",
       "          -4.60547090e-01,  3.83472949e-01, -3.99230689e-01,\n",
       "           4.10102874e-01, -6.32103980e-02, -4.44553494e-01,\n",
       "           7.18435109e-01,  3.71775597e-01,  6.73199832e-01,\n",
       "          -1.03123033e+00]], dtype=float32),\n",
       "  'b': Array([0., 0., 0., 0., 0., 0., 0., 0., 0., 0., 0., 0., 0., 0., 0., 0., 0.,\n",
       "         0., 0., 0., 0., 0., 0., 0., 0., 0., 0., 0., 0., 0., 0., 0., 0., 0.,\n",
       "         0., 0., 0., 0., 0., 0., 0., 0., 0., 0., 0., 0., 0., 0., 0., 0., 0.,\n",
       "         0., 0., 0., 0., 0., 0., 0., 0., 0., 0., 0., 0., 0., 0., 0., 0., 0.,\n",
       "         0., 0., 0., 0., 0., 0., 0., 0., 0., 0., 0., 0., 0., 0., 0., 0., 0.,\n",
       "         0., 0., 0., 0., 0., 0., 0., 0., 0., 0., 0., 0., 0., 0., 0., 0., 0.,\n",
       "         0., 0., 0., 0., 0., 0., 0., 0., 0., 0., 0., 0., 0., 0., 0., 0., 0.,\n",
       "         0., 0., 0., 0., 0., 0., 0., 0., 0., 0., 0., 0., 0., 0., 0., 0., 0.,\n",
       "         0., 0., 0., 0., 0., 0., 0., 0., 0., 0., 0., 0., 0., 0., 0., 0., 0.,\n",
       "         0., 0., 0., 0., 0., 0., 0., 0., 0., 0., 0., 0., 0., 0., 0., 0., 0.,\n",
       "         0., 0., 0., 0., 0., 0., 0., 0., 0., 0., 0., 0., 0., 0., 0., 0., 0.,\n",
       "         0., 0., 0., 0., 0., 0., 0., 0., 0., 0., 0., 0., 0., 0., 0., 0., 0.,\n",
       "         0., 0., 0., 0., 0., 0., 0., 0., 0., 0., 0., 0., 0., 0., 0., 0., 0.,\n",
       "         0., 0., 0., 0., 0., 0., 0., 0., 0., 0., 0., 0., 0., 0., 0., 0., 0.,\n",
       "         0., 0., 0., 0., 0., 0., 0., 0., 0., 0., 0., 0., 0., 0., 0., 0., 0.,\n",
       "         0.], dtype=float32)},\n",
       " 'linear_1': {'w': Array([[-0.06823059,  0.01223269,  0.00236453, ..., -0.02609458,\n",
       "           0.0061367 , -0.05522338],\n",
       "         [ 0.07204133, -0.09970611, -0.09920809, ..., -0.05192017,\n",
       "          -0.0047252 ,  0.077815  ],\n",
       "         [ 0.04100554,  0.0123764 , -0.0318636 , ..., -0.01229531,\n",
       "           0.02999904, -0.01851265],\n",
       "         ...,\n",
       "         [-0.01918053, -0.029874  , -0.03993903, ...,  0.04151652,\n",
       "           0.01819942,  0.05885636],\n",
       "         [ 0.022894  , -0.07915724, -0.0334264 , ..., -0.02761887,\n",
       "          -0.05241881,  0.0001389 ],\n",
       "         [ 0.04210483, -0.0087832 , -0.00451539, ..., -0.02232758,\n",
       "           0.03121462,  0.05260593]], dtype=float32),\n",
       "  'b': Array([0., 0., 0., 0., 0., 0., 0., 0., 0., 0., 0., 0., 0., 0., 0., 0., 0.,\n",
       "         0., 0., 0., 0., 0., 0., 0., 0., 0., 0., 0., 0., 0., 0., 0., 0., 0.,\n",
       "         0., 0., 0., 0., 0., 0., 0., 0., 0., 0., 0., 0., 0., 0., 0., 0., 0.,\n",
       "         0., 0., 0., 0., 0., 0., 0., 0., 0., 0., 0., 0., 0., 0., 0., 0., 0.,\n",
       "         0., 0., 0., 0., 0., 0., 0., 0., 0., 0., 0., 0., 0., 0., 0., 0., 0.,\n",
       "         0., 0., 0., 0., 0., 0., 0., 0., 0., 0., 0., 0., 0., 0., 0., 0., 0.,\n",
       "         0., 0., 0., 0., 0., 0., 0., 0., 0., 0., 0., 0., 0., 0., 0., 0., 0.,\n",
       "         0., 0., 0., 0., 0., 0., 0., 0., 0., 0., 0., 0., 0., 0., 0., 0., 0.,\n",
       "         0., 0., 0., 0., 0., 0., 0., 0., 0., 0., 0., 0., 0., 0., 0., 0., 0.,\n",
       "         0., 0., 0., 0., 0., 0., 0., 0., 0., 0., 0., 0., 0., 0., 0., 0., 0.,\n",
       "         0., 0., 0., 0., 0., 0., 0., 0., 0., 0., 0., 0., 0., 0., 0., 0., 0.,\n",
       "         0., 0., 0., 0., 0., 0., 0., 0., 0., 0., 0., 0., 0., 0., 0., 0., 0.,\n",
       "         0., 0., 0., 0., 0., 0., 0., 0., 0., 0., 0., 0., 0., 0., 0., 0., 0.,\n",
       "         0., 0., 0., 0., 0., 0., 0., 0., 0., 0., 0., 0., 0., 0., 0., 0., 0.,\n",
       "         0., 0., 0., 0., 0., 0., 0., 0., 0., 0., 0., 0., 0., 0., 0., 0., 0.,\n",
       "         0.], dtype=float32)},\n",
       " 'linear_2': {'w': Array([[-0.0476696 , -0.02504439, -0.01419151, ...,  0.06953245,\n",
       "           0.02869046,  0.04753114],\n",
       "         [ 0.09545076, -0.03386079,  0.06760197, ...,  0.08377928,\n",
       "           0.00951932, -0.02525061],\n",
       "         [-0.02517506, -0.05896839,  0.03541264, ..., -0.0316899 ,\n",
       "           0.02468905, -0.03480738],\n",
       "         ...,\n",
       "         [-0.02032214,  0.02221048, -0.02885394, ..., -0.03232789,\n",
       "           0.0927075 ,  0.02738803],\n",
       "         [-0.02951477,  0.02256535, -0.00442535, ..., -0.08120825,\n",
       "          -0.04570445, -0.0302136 ],\n",
       "         [-0.07403963, -0.02533769, -0.02183442, ..., -0.06923155,\n",
       "          -0.00130268, -0.01434833]], dtype=float32),\n",
       "  'b': Array([0., 0., 0., 0., 0., 0., 0., 0., 0., 0., 0., 0., 0., 0., 0., 0., 0.,\n",
       "         0., 0., 0., 0., 0., 0., 0., 0., 0., 0., 0., 0., 0., 0., 0., 0., 0.,\n",
       "         0., 0., 0., 0., 0., 0., 0., 0., 0., 0., 0., 0., 0., 0., 0., 0., 0.,\n",
       "         0., 0., 0., 0., 0., 0., 0., 0., 0., 0., 0., 0., 0., 0., 0., 0., 0.,\n",
       "         0., 0., 0., 0., 0., 0., 0., 0., 0., 0., 0., 0., 0., 0., 0., 0., 0.,\n",
       "         0., 0., 0., 0., 0., 0., 0., 0., 0., 0., 0., 0., 0., 0., 0., 0., 0.,\n",
       "         0., 0., 0., 0., 0., 0., 0., 0., 0., 0., 0., 0., 0., 0., 0., 0., 0.,\n",
       "         0., 0., 0., 0., 0., 0., 0., 0., 0., 0., 0., 0., 0., 0., 0., 0., 0.,\n",
       "         0., 0., 0., 0., 0., 0., 0., 0., 0., 0., 0., 0., 0., 0., 0., 0., 0.,\n",
       "         0., 0., 0., 0., 0., 0., 0., 0., 0., 0., 0., 0., 0., 0., 0., 0., 0.,\n",
       "         0., 0., 0., 0., 0., 0., 0., 0., 0., 0., 0., 0., 0., 0., 0., 0., 0.,\n",
       "         0., 0., 0., 0., 0., 0., 0., 0., 0., 0., 0., 0., 0., 0., 0., 0., 0.,\n",
       "         0., 0., 0., 0., 0., 0., 0., 0., 0., 0., 0., 0., 0., 0., 0., 0., 0.,\n",
       "         0., 0., 0., 0., 0., 0., 0., 0., 0., 0., 0., 0., 0., 0., 0., 0., 0.,\n",
       "         0., 0., 0., 0., 0., 0., 0., 0., 0., 0., 0., 0., 0., 0., 0., 0., 0.,\n",
       "         0.], dtype=float32)},\n",
       " 'linear_3': {'w': Array([[ 0.01853223, -0.01299184, -0.05278353, ...,  0.0531585 ,\n",
       "          -0.05361336,  0.00167287],\n",
       "         [ 0.07865537, -0.0347495 ,  0.01189208, ..., -0.0055863 ,\n",
       "           0.01342542, -0.01930872],\n",
       "         [ 0.06038501, -0.09293354, -0.06974886, ..., -0.0227508 ,\n",
       "          -0.02096356, -0.00459837],\n",
       "         ...,\n",
       "         [ 0.10614489,  0.12342661,  0.08941903, ..., -0.0298784 ,\n",
       "          -0.04114764, -0.0553089 ],\n",
       "         [-0.00292797,  0.02312929, -0.05443601, ...,  0.02938265,\n",
       "           0.027841  ,  0.04674697],\n",
       "         [-0.01087861, -0.05926509, -0.06091892, ..., -0.09490553,\n",
       "           0.01086241,  0.06112969]], dtype=float32),\n",
       "  'b': Array([0., 0., 0., 0., 0., 0., 0., 0., 0., 0., 0., 0., 0., 0., 0., 0., 0.,\n",
       "         0., 0., 0., 0., 0., 0., 0., 0., 0., 0., 0., 0., 0., 0., 0., 0., 0.,\n",
       "         0., 0., 0., 0., 0., 0., 0., 0., 0., 0., 0., 0., 0., 0., 0., 0., 0.,\n",
       "         0., 0., 0., 0., 0., 0., 0., 0., 0., 0., 0., 0., 0., 0., 0., 0., 0.,\n",
       "         0., 0., 0., 0., 0., 0., 0., 0., 0., 0., 0., 0., 0., 0., 0., 0., 0.,\n",
       "         0., 0., 0., 0., 0., 0., 0., 0., 0., 0., 0., 0., 0., 0., 0., 0., 0.,\n",
       "         0., 0., 0., 0., 0., 0., 0., 0., 0., 0., 0., 0., 0., 0., 0., 0., 0.,\n",
       "         0., 0., 0., 0., 0., 0., 0., 0., 0., 0., 0., 0., 0., 0., 0., 0., 0.,\n",
       "         0., 0., 0., 0., 0., 0., 0., 0., 0., 0., 0., 0., 0., 0., 0., 0., 0.,\n",
       "         0., 0., 0., 0., 0., 0., 0., 0., 0., 0., 0., 0., 0., 0., 0., 0., 0.,\n",
       "         0., 0., 0., 0., 0., 0., 0., 0., 0., 0., 0., 0., 0., 0., 0., 0., 0.,\n",
       "         0., 0., 0., 0., 0., 0., 0., 0., 0., 0., 0., 0., 0., 0., 0., 0., 0.,\n",
       "         0., 0., 0., 0., 0., 0., 0., 0., 0., 0., 0., 0., 0., 0., 0., 0., 0.,\n",
       "         0., 0., 0., 0., 0., 0., 0., 0., 0., 0., 0., 0., 0., 0., 0., 0., 0.,\n",
       "         0., 0., 0., 0., 0., 0., 0., 0., 0., 0., 0., 0., 0., 0., 0., 0., 0.,\n",
       "         0.], dtype=float32)},\n",
       " 'linear_4': {'w': Array([[-0.0155779 ],\n",
       "         [ 0.04638108],\n",
       "         [-0.06932616],\n",
       "         [ 0.06982689],\n",
       "         [ 0.01404759],\n",
       "         [ 0.03932345],\n",
       "         [-0.10472055],\n",
       "         [ 0.01098975],\n",
       "         [-0.05036267],\n",
       "         [-0.03251796],\n",
       "         [ 0.00161109],\n",
       "         [-0.05733811],\n",
       "         [-0.05966631],\n",
       "         [ 0.0018033 ],\n",
       "         [-0.06348369],\n",
       "         [-0.06851598],\n",
       "         [ 0.04278519],\n",
       "         [-0.04793374],\n",
       "         [ 0.05395644],\n",
       "         [ 0.09930851],\n",
       "         [-0.06262694],\n",
       "         [ 0.00525288],\n",
       "         [-0.07078592],\n",
       "         [-0.00028962],\n",
       "         [-0.06888819],\n",
       "         [-0.00166455],\n",
       "         [-0.03651757],\n",
       "         [ 0.01608108],\n",
       "         [-0.03903739],\n",
       "         [-0.01525342],\n",
       "         [ 0.04037612],\n",
       "         [ 0.01127918],\n",
       "         [ 0.01899505],\n",
       "         [ 0.06539506],\n",
       "         [ 0.04175224],\n",
       "         [-0.0260127 ],\n",
       "         [ 0.00650122],\n",
       "         [ 0.03103459],\n",
       "         [ 0.01815389],\n",
       "         [-0.07689419],\n",
       "         [ 0.07083079],\n",
       "         [-0.01824651],\n",
       "         [ 0.02432121],\n",
       "         [ 0.06003334],\n",
       "         [ 0.00766081],\n",
       "         [-0.047621  ],\n",
       "         [-0.0335297 ],\n",
       "         [ 0.01052935],\n",
       "         [ 0.02826785],\n",
       "         [ 0.08686187],\n",
       "         [ 0.04069456],\n",
       "         [-0.01015825],\n",
       "         [-0.08898789],\n",
       "         [ 0.01575464],\n",
       "         [ 0.01817848],\n",
       "         [-0.04263488],\n",
       "         [-0.05347794],\n",
       "         [-0.09970884],\n",
       "         [ 0.00552196],\n",
       "         [-0.03386683],\n",
       "         [ 0.06684063],\n",
       "         [ 0.00831652],\n",
       "         [ 0.09406185],\n",
       "         [-0.1018333 ],\n",
       "         [ 0.08663578],\n",
       "         [-0.09930295],\n",
       "         [-0.09849589],\n",
       "         [ 0.03254803],\n",
       "         [ 0.00775197],\n",
       "         [-0.02309266],\n",
       "         [-0.01670107],\n",
       "         [ 0.0599122 ],\n",
       "         [ 0.03614559],\n",
       "         [ 0.05553069],\n",
       "         [ 0.0362955 ],\n",
       "         [ 0.07629181],\n",
       "         [ 0.01560052],\n",
       "         [-0.07421626],\n",
       "         [-0.00941183],\n",
       "         [ 0.00710223],\n",
       "         [-0.00385864],\n",
       "         [ 0.02483774],\n",
       "         [ 0.11794898],\n",
       "         [-0.09491687],\n",
       "         [-0.04282869],\n",
       "         [ 0.10699816],\n",
       "         [ 0.01657991],\n",
       "         [-0.04986008],\n",
       "         [-0.05873717],\n",
       "         [-0.03222543],\n",
       "         [-0.08719855],\n",
       "         [ 0.00213157],\n",
       "         [-0.09327877],\n",
       "         [ 0.05271402],\n",
       "         [ 0.00117447],\n",
       "         [-0.00027645],\n",
       "         [-0.08667815],\n",
       "         [ 0.00131796],\n",
       "         [ 0.05875347],\n",
       "         [ 0.02278993],\n",
       "         [-0.04384106],\n",
       "         [-0.05253562],\n",
       "         [ 0.04206289],\n",
       "         [-0.05721179],\n",
       "         [-0.01318991],\n",
       "         [ 0.0859246 ],\n",
       "         [-0.02296426],\n",
       "         [ 0.05076801],\n",
       "         [-0.03114681],\n",
       "         [ 0.02775497],\n",
       "         [ 0.04415186],\n",
       "         [-0.05738123],\n",
       "         [-0.06735991],\n",
       "         [-0.0485697 ],\n",
       "         [ 0.04349123],\n",
       "         [ 0.03664421],\n",
       "         [ 0.06902236],\n",
       "         [ 0.00747891],\n",
       "         [ 0.08688015],\n",
       "         [ 0.11327793],\n",
       "         [ 0.00595682],\n",
       "         [-0.05098648],\n",
       "         [ 0.01782236],\n",
       "         [-0.07643256],\n",
       "         [ 0.00330114],\n",
       "         [-0.02740562],\n",
       "         [-0.07164918],\n",
       "         [-0.08927757],\n",
       "         [ 0.04609908],\n",
       "         [-0.09899879],\n",
       "         [ 0.11632065],\n",
       "         [ 0.00059045],\n",
       "         [ 0.01564848],\n",
       "         [-0.04490698],\n",
       "         [ 0.03018549],\n",
       "         [ 0.01896618],\n",
       "         [ 0.040163  ],\n",
       "         [ 0.06889713],\n",
       "         [-0.05172024],\n",
       "         [ 0.04249646],\n",
       "         [ 0.03343188],\n",
       "         [-0.07635602],\n",
       "         [ 0.01602712],\n",
       "         [ 0.0756341 ],\n",
       "         [ 0.02157955],\n",
       "         [-0.03059014],\n",
       "         [-0.01601169],\n",
       "         [ 0.03048107],\n",
       "         [ 0.06858615],\n",
       "         [-0.02257893],\n",
       "         [-0.03342513],\n",
       "         [ 0.04330422],\n",
       "         [-0.02220365],\n",
       "         [-0.08467806],\n",
       "         [-0.10538489],\n",
       "         [ 0.01821909],\n",
       "         [ 0.00635225],\n",
       "         [ 0.11312241],\n",
       "         [-0.02178966],\n",
       "         [ 0.03665511],\n",
       "         [-0.00813459],\n",
       "         [-0.09898104],\n",
       "         [ 0.02473224],\n",
       "         [ 0.00479961],\n",
       "         [ 0.01140009],\n",
       "         [-0.08498872],\n",
       "         [-0.06941701],\n",
       "         [ 0.01934434],\n",
       "         [ 0.03933867],\n",
       "         [-0.05778754],\n",
       "         [ 0.05059822],\n",
       "         [ 0.07923301],\n",
       "         [ 0.02942124],\n",
       "         [-0.04826767],\n",
       "         [ 0.02122526],\n",
       "         [ 0.07459063],\n",
       "         [ 0.0302469 ],\n",
       "         [-0.11935987],\n",
       "         [ 0.03937937],\n",
       "         [-0.0558036 ],\n",
       "         [-0.03231412],\n",
       "         [-0.00674063],\n",
       "         [ 0.01436998],\n",
       "         [ 0.03277354],\n",
       "         [-0.01729255],\n",
       "         [-0.01744781],\n",
       "         [-0.00757979],\n",
       "         [-0.03310114],\n",
       "         [-0.05557574],\n",
       "         [ 0.04802944],\n",
       "         [ 0.05257342],\n",
       "         [-0.00396766],\n",
       "         [-0.02800146],\n",
       "         [ 0.01049115],\n",
       "         [ 0.05786443],\n",
       "         [-0.05020117],\n",
       "         [-0.05475106],\n",
       "         [ 0.02327416],\n",
       "         [ 0.05951186],\n",
       "         [-0.01305345],\n",
       "         [ 0.02935493],\n",
       "         [-0.11646695],\n",
       "         [ 0.02996903],\n",
       "         [-0.00373839],\n",
       "         [-0.05845938],\n",
       "         [ 0.05288861],\n",
       "         [ 0.02760432],\n",
       "         [ 0.05523384],\n",
       "         [ 0.02157669],\n",
       "         [-0.12180077],\n",
       "         [ 0.11895887],\n",
       "         [-0.03525161],\n",
       "         [-0.08150259],\n",
       "         [ 0.01859712],\n",
       "         [ 0.0214157 ],\n",
       "         [ 0.02952117],\n",
       "         [ 0.03847659],\n",
       "         [ 0.03493135],\n",
       "         [-0.02654934],\n",
       "         [ 0.07752331],\n",
       "         [ 0.10062318],\n",
       "         [ 0.04089255],\n",
       "         [-0.05982202],\n",
       "         [ 0.08303589],\n",
       "         [-0.09492303],\n",
       "         [ 0.00549748],\n",
       "         [-0.12376076],\n",
       "         [ 0.02047068],\n",
       "         [ 0.06705758],\n",
       "         [-0.02748031],\n",
       "         [-0.01841955],\n",
       "         [-0.09219576],\n",
       "         [-0.10047618],\n",
       "         [ 0.02588854],\n",
       "         [ 0.02308628],\n",
       "         [-0.03175803],\n",
       "         [-0.04651579],\n",
       "         [ 0.04320456],\n",
       "         [ 0.05393366],\n",
       "         [-0.06991965],\n",
       "         [ 0.06923828],\n",
       "         [-0.04483891],\n",
       "         [-0.03193916],\n",
       "         [-0.12060851],\n",
       "         [ 0.0164353 ],\n",
       "         [ 0.11260454],\n",
       "         [-0.07607792],\n",
       "         [-0.05702044],\n",
       "         [ 0.04834995],\n",
       "         [-0.02203848],\n",
       "         [-0.00426601],\n",
       "         [ 0.11172827],\n",
       "         [ 0.02641927],\n",
       "         [-0.06852553],\n",
       "         [ 0.05365257],\n",
       "         [ 0.00016944]], dtype=float32),\n",
       "  'b': Array([0.], dtype=float32)}}"
      ]
     },
     "execution_count": 11,
     "metadata": {},
     "output_type": "execute_result"
    }
   ],
   "source": [
    "params"
   ]
  },
  {
   "cell_type": "code",
   "execution_count": null,
   "metadata": {},
   "outputs": [],
   "source": []
  }
 ],
 "metadata": {
  "kernelspec": {
   "display_name": "env",
   "language": "python",
   "name": "python3"
  },
  "language_info": {
   "codemirror_mode": {
    "name": "ipython",
    "version": 3
   },
   "file_extension": ".py",
   "mimetype": "text/x-python",
   "name": "python",
   "nbconvert_exporter": "python",
   "pygments_lexer": "ipython3",
   "version": "3.11.4"
  }
 },
 "nbformat": 4,
 "nbformat_minor": 2
}
